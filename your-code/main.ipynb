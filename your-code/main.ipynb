{
  "cells": [
    {
      "cell_type": "markdown",
      "metadata": {
        "id": "9633ehN5mrCV"
      },
      "source": [
        "# Before your start:\n",
        "- Read the README.md file\n",
        "- Comment as much as you can and use the resources in the README.md file\n",
        "- Happy learning!"
      ]
    },
    {
      "cell_type": "code",
      "execution_count": 136,
      "metadata": {
        "id": "Af11DwmMmrCX"
      },
      "outputs": [],
      "source": [
        "%matplotlib inline\n",
        "\n",
        "import numpy as np\n",
        "import pandas as pd\n",
        "import seaborn as sns\n",
        "import matplotlib.pyplot as plt"
      ]
    },
    {
      "cell_type": "markdown",
      "metadata": {
        "id": "BBXwI7HkmrCY"
      },
      "source": [
        "In this lab, we will explore a dataset that describes websites with different features and labels them either benign or malicious . We will use supervised learning algorithms to figure out what feature patterns malicious websites are likely to have and use our model to predict malicious websites.\n",
        "\n",
        "# Challenge 1 - Explore The Dataset\n",
        "\n",
        "Let's start by exploring the dataset. First load the data file:"
      ]
    },
    {
      "cell_type": "code",
      "execution_count": 185,
      "metadata": {
        "id": "E4fxoAiKmrCY"
      },
      "outputs": [],
      "source": [
        "websites = pd.read_csv('website.csv')"
      ]
    },
    {
      "cell_type": "markdown",
      "metadata": {
        "id": "3JqxcyW5mrCZ"
      },
      "source": [
        "#### Explore the data from an bird's-eye view.\n",
        "\n",
        "You should already been very familiar with the procedures now so we won't provide the instructions step by step. Reflect on what you did in the previous labs and explore the dataset.\n",
        "\n",
        "Things you'll be looking for:\n",
        "\n",
        "* What the dataset looks like?\n",
        "* What are the data types?\n",
        "* Which columns contain the features of the websites?\n",
        "* Which column contains the feature we will predict? What is the code standing for benign vs malicious websites?\n",
        "* Do we need to transform any of the columns from categorical to ordinal values? If so what are these columns?\n",
        "\n",
        "Feel free to add additional cells for your explorations. Make sure to comment what you find out."
      ]
    },
    {
      "cell_type": "code",
      "execution_count": 186,
      "metadata": {
        "colab": {
          "base_uri": "https://localhost:8080/",
          "height": 369
        },
        "id": "6FLbFcjImrCZ",
        "outputId": "8d21b181-9070-4716-ec93-d417038222d8"
      },
      "outputs": [
        {
          "output_type": "execute_result",
          "data": {
            "text/plain": [
              "       URL  URL_LENGTH  NUMBER_SPECIAL_CHARACTERS     CHARSET  \\\n",
              "0   M0_109          16                          7  iso-8859-1   \n",
              "1  B0_2314          16                          6       UTF-8   \n",
              "2   B0_911          16                          6    us-ascii   \n",
              "3   B0_113          17                          6  ISO-8859-1   \n",
              "4   B0_403          17                          6       UTF-8   \n",
              "\n",
              "                  SERVER  CONTENT_LENGTH WHOIS_COUNTRY WHOIS_STATEPRO  \\\n",
              "0                  nginx           263.0          None           None   \n",
              "1          Apache/2.4.10         15087.0          None           None   \n",
              "2  Microsoft-HTTPAPI/2.0           324.0          None           None   \n",
              "3                  nginx           162.0            US             AK   \n",
              "4                   None        124140.0            US             TX   \n",
              "\n",
              "      WHOIS_REGDATE WHOIS_UPDATED_DATE  ...  DIST_REMOTE_TCP_PORT  REMOTE_IPS  \\\n",
              "0  10/10/2015 18:21               None  ...                     0           2   \n",
              "1              None               None  ...                     7           4   \n",
              "2              None               None  ...                     0           0   \n",
              "3    7/10/1997 4:00    12/09/2013 0:45  ...                    22           3   \n",
              "4   12/05/1996 0:00    11/04/2017 0:00  ...                     2           5   \n",
              "\n",
              "   APP_BYTES  SOURCE_APP_PACKETS  REMOTE_APP_PACKETS  SOURCE_APP_BYTES  \\\n",
              "0        700                   9                  10              1153   \n",
              "1       1230                  17                  19              1265   \n",
              "2          0                   0                   0                 0   \n",
              "3       3812                  39                  37             18784   \n",
              "4       4278                  61                  62            129889   \n",
              "\n",
              "   REMOTE_APP_BYTES  APP_PACKETS  DNS_QUERY_TIMES  Type  \n",
              "0               832            9              2.0     1  \n",
              "1              1230           17              0.0     0  \n",
              "2                 0            0              0.0     0  \n",
              "3              4380           39              8.0     0  \n",
              "4              4586           61              4.0     0  \n",
              "\n",
              "[5 rows x 21 columns]"
            ],
            "text/html": [
              "\n",
              "  <div id=\"df-bf2043d7-2d4c-468c-a7f9-34f5eaccfde3\">\n",
              "    <div class=\"colab-df-container\">\n",
              "      <div>\n",
              "<style scoped>\n",
              "    .dataframe tbody tr th:only-of-type {\n",
              "        vertical-align: middle;\n",
              "    }\n",
              "\n",
              "    .dataframe tbody tr th {\n",
              "        vertical-align: top;\n",
              "    }\n",
              "\n",
              "    .dataframe thead th {\n",
              "        text-align: right;\n",
              "    }\n",
              "</style>\n",
              "<table border=\"1\" class=\"dataframe\">\n",
              "  <thead>\n",
              "    <tr style=\"text-align: right;\">\n",
              "      <th></th>\n",
              "      <th>URL</th>\n",
              "      <th>URL_LENGTH</th>\n",
              "      <th>NUMBER_SPECIAL_CHARACTERS</th>\n",
              "      <th>CHARSET</th>\n",
              "      <th>SERVER</th>\n",
              "      <th>CONTENT_LENGTH</th>\n",
              "      <th>WHOIS_COUNTRY</th>\n",
              "      <th>WHOIS_STATEPRO</th>\n",
              "      <th>WHOIS_REGDATE</th>\n",
              "      <th>WHOIS_UPDATED_DATE</th>\n",
              "      <th>...</th>\n",
              "      <th>DIST_REMOTE_TCP_PORT</th>\n",
              "      <th>REMOTE_IPS</th>\n",
              "      <th>APP_BYTES</th>\n",
              "      <th>SOURCE_APP_PACKETS</th>\n",
              "      <th>REMOTE_APP_PACKETS</th>\n",
              "      <th>SOURCE_APP_BYTES</th>\n",
              "      <th>REMOTE_APP_BYTES</th>\n",
              "      <th>APP_PACKETS</th>\n",
              "      <th>DNS_QUERY_TIMES</th>\n",
              "      <th>Type</th>\n",
              "    </tr>\n",
              "  </thead>\n",
              "  <tbody>\n",
              "    <tr>\n",
              "      <th>0</th>\n",
              "      <td>M0_109</td>\n",
              "      <td>16</td>\n",
              "      <td>7</td>\n",
              "      <td>iso-8859-1</td>\n",
              "      <td>nginx</td>\n",
              "      <td>263.0</td>\n",
              "      <td>None</td>\n",
              "      <td>None</td>\n",
              "      <td>10/10/2015 18:21</td>\n",
              "      <td>None</td>\n",
              "      <td>...</td>\n",
              "      <td>0</td>\n",
              "      <td>2</td>\n",
              "      <td>700</td>\n",
              "      <td>9</td>\n",
              "      <td>10</td>\n",
              "      <td>1153</td>\n",
              "      <td>832</td>\n",
              "      <td>9</td>\n",
              "      <td>2.0</td>\n",
              "      <td>1</td>\n",
              "    </tr>\n",
              "    <tr>\n",
              "      <th>1</th>\n",
              "      <td>B0_2314</td>\n",
              "      <td>16</td>\n",
              "      <td>6</td>\n",
              "      <td>UTF-8</td>\n",
              "      <td>Apache/2.4.10</td>\n",
              "      <td>15087.0</td>\n",
              "      <td>None</td>\n",
              "      <td>None</td>\n",
              "      <td>None</td>\n",
              "      <td>None</td>\n",
              "      <td>...</td>\n",
              "      <td>7</td>\n",
              "      <td>4</td>\n",
              "      <td>1230</td>\n",
              "      <td>17</td>\n",
              "      <td>19</td>\n",
              "      <td>1265</td>\n",
              "      <td>1230</td>\n",
              "      <td>17</td>\n",
              "      <td>0.0</td>\n",
              "      <td>0</td>\n",
              "    </tr>\n",
              "    <tr>\n",
              "      <th>2</th>\n",
              "      <td>B0_911</td>\n",
              "      <td>16</td>\n",
              "      <td>6</td>\n",
              "      <td>us-ascii</td>\n",
              "      <td>Microsoft-HTTPAPI/2.0</td>\n",
              "      <td>324.0</td>\n",
              "      <td>None</td>\n",
              "      <td>None</td>\n",
              "      <td>None</td>\n",
              "      <td>None</td>\n",
              "      <td>...</td>\n",
              "      <td>0</td>\n",
              "      <td>0</td>\n",
              "      <td>0</td>\n",
              "      <td>0</td>\n",
              "      <td>0</td>\n",
              "      <td>0</td>\n",
              "      <td>0</td>\n",
              "      <td>0</td>\n",
              "      <td>0.0</td>\n",
              "      <td>0</td>\n",
              "    </tr>\n",
              "    <tr>\n",
              "      <th>3</th>\n",
              "      <td>B0_113</td>\n",
              "      <td>17</td>\n",
              "      <td>6</td>\n",
              "      <td>ISO-8859-1</td>\n",
              "      <td>nginx</td>\n",
              "      <td>162.0</td>\n",
              "      <td>US</td>\n",
              "      <td>AK</td>\n",
              "      <td>7/10/1997 4:00</td>\n",
              "      <td>12/09/2013 0:45</td>\n",
              "      <td>...</td>\n",
              "      <td>22</td>\n",
              "      <td>3</td>\n",
              "      <td>3812</td>\n",
              "      <td>39</td>\n",
              "      <td>37</td>\n",
              "      <td>18784</td>\n",
              "      <td>4380</td>\n",
              "      <td>39</td>\n",
              "      <td>8.0</td>\n",
              "      <td>0</td>\n",
              "    </tr>\n",
              "    <tr>\n",
              "      <th>4</th>\n",
              "      <td>B0_403</td>\n",
              "      <td>17</td>\n",
              "      <td>6</td>\n",
              "      <td>UTF-8</td>\n",
              "      <td>None</td>\n",
              "      <td>124140.0</td>\n",
              "      <td>US</td>\n",
              "      <td>TX</td>\n",
              "      <td>12/05/1996 0:00</td>\n",
              "      <td>11/04/2017 0:00</td>\n",
              "      <td>...</td>\n",
              "      <td>2</td>\n",
              "      <td>5</td>\n",
              "      <td>4278</td>\n",
              "      <td>61</td>\n",
              "      <td>62</td>\n",
              "      <td>129889</td>\n",
              "      <td>4586</td>\n",
              "      <td>61</td>\n",
              "      <td>4.0</td>\n",
              "      <td>0</td>\n",
              "    </tr>\n",
              "  </tbody>\n",
              "</table>\n",
              "<p>5 rows × 21 columns</p>\n",
              "</div>\n",
              "      <button class=\"colab-df-convert\" onclick=\"convertToInteractive('df-bf2043d7-2d4c-468c-a7f9-34f5eaccfde3')\"\n",
              "              title=\"Convert this dataframe to an interactive table.\"\n",
              "              style=\"display:none;\">\n",
              "        \n",
              "  <svg xmlns=\"http://www.w3.org/2000/svg\" height=\"24px\"viewBox=\"0 0 24 24\"\n",
              "       width=\"24px\">\n",
              "    <path d=\"M0 0h24v24H0V0z\" fill=\"none\"/>\n",
              "    <path d=\"M18.56 5.44l.94 2.06.94-2.06 2.06-.94-2.06-.94-.94-2.06-.94 2.06-2.06.94zm-11 1L8.5 8.5l.94-2.06 2.06-.94-2.06-.94L8.5 2.5l-.94 2.06-2.06.94zm10 10l.94 2.06.94-2.06 2.06-.94-2.06-.94-.94-2.06-.94 2.06-2.06.94z\"/><path d=\"M17.41 7.96l-1.37-1.37c-.4-.4-.92-.59-1.43-.59-.52 0-1.04.2-1.43.59L10.3 9.45l-7.72 7.72c-.78.78-.78 2.05 0 2.83L4 21.41c.39.39.9.59 1.41.59.51 0 1.02-.2 1.41-.59l7.78-7.78 2.81-2.81c.8-.78.8-2.07 0-2.86zM5.41 20L4 18.59l7.72-7.72 1.47 1.35L5.41 20z\"/>\n",
              "  </svg>\n",
              "      </button>\n",
              "      \n",
              "  <style>\n",
              "    .colab-df-container {\n",
              "      display:flex;\n",
              "      flex-wrap:wrap;\n",
              "      gap: 12px;\n",
              "    }\n",
              "\n",
              "    .colab-df-convert {\n",
              "      background-color: #E8F0FE;\n",
              "      border: none;\n",
              "      border-radius: 50%;\n",
              "      cursor: pointer;\n",
              "      display: none;\n",
              "      fill: #1967D2;\n",
              "      height: 32px;\n",
              "      padding: 0 0 0 0;\n",
              "      width: 32px;\n",
              "    }\n",
              "\n",
              "    .colab-df-convert:hover {\n",
              "      background-color: #E2EBFA;\n",
              "      box-shadow: 0px 1px 2px rgba(60, 64, 67, 0.3), 0px 1px 3px 1px rgba(60, 64, 67, 0.15);\n",
              "      fill: #174EA6;\n",
              "    }\n",
              "\n",
              "    [theme=dark] .colab-df-convert {\n",
              "      background-color: #3B4455;\n",
              "      fill: #D2E3FC;\n",
              "    }\n",
              "\n",
              "    [theme=dark] .colab-df-convert:hover {\n",
              "      background-color: #434B5C;\n",
              "      box-shadow: 0px 1px 3px 1px rgba(0, 0, 0, 0.15);\n",
              "      filter: drop-shadow(0px 1px 2px rgba(0, 0, 0, 0.3));\n",
              "      fill: #FFFFFF;\n",
              "    }\n",
              "  </style>\n",
              "\n",
              "      <script>\n",
              "        const buttonEl =\n",
              "          document.querySelector('#df-bf2043d7-2d4c-468c-a7f9-34f5eaccfde3 button.colab-df-convert');\n",
              "        buttonEl.style.display =\n",
              "          google.colab.kernel.accessAllowed ? 'block' : 'none';\n",
              "\n",
              "        async function convertToInteractive(key) {\n",
              "          const element = document.querySelector('#df-bf2043d7-2d4c-468c-a7f9-34f5eaccfde3');\n",
              "          const dataTable =\n",
              "            await google.colab.kernel.invokeFunction('convertToInteractive',\n",
              "                                                     [key], {});\n",
              "          if (!dataTable) return;\n",
              "\n",
              "          const docLinkHtml = 'Like what you see? Visit the ' +\n",
              "            '<a target=\"_blank\" href=https://colab.research.google.com/notebooks/data_table.ipynb>data table notebook</a>'\n",
              "            + ' to learn more about interactive tables.';\n",
              "          element.innerHTML = '';\n",
              "          dataTable['output_type'] = 'display_data';\n",
              "          await google.colab.output.renderOutput(dataTable, element);\n",
              "          const docLink = document.createElement('div');\n",
              "          docLink.innerHTML = docLinkHtml;\n",
              "          element.appendChild(docLink);\n",
              "        }\n",
              "      </script>\n",
              "    </div>\n",
              "  </div>\n",
              "  "
            ]
          },
          "metadata": {},
          "execution_count": 186
        }
      ],
      "source": [
        "websites.head()"
      ]
    },
    {
      "cell_type": "code",
      "source": [
        "websites.dtypes"
      ],
      "metadata": {
        "colab": {
          "base_uri": "https://localhost:8080/"
        },
        "id": "ssS5abqSnqVi",
        "outputId": "a76c612b-a833-4d90-d830-a1a62e101bf2"
      },
      "execution_count": 187,
      "outputs": [
        {
          "output_type": "execute_result",
          "data": {
            "text/plain": [
              "URL                           object\n",
              "URL_LENGTH                     int64\n",
              "NUMBER_SPECIAL_CHARACTERS      int64\n",
              "CHARSET                       object\n",
              "SERVER                        object\n",
              "CONTENT_LENGTH               float64\n",
              "WHOIS_COUNTRY                 object\n",
              "WHOIS_STATEPRO                object\n",
              "WHOIS_REGDATE                 object\n",
              "WHOIS_UPDATED_DATE            object\n",
              "TCP_CONVERSATION_EXCHANGE      int64\n",
              "DIST_REMOTE_TCP_PORT           int64\n",
              "REMOTE_IPS                     int64\n",
              "APP_BYTES                      int64\n",
              "SOURCE_APP_PACKETS             int64\n",
              "REMOTE_APP_PACKETS             int64\n",
              "SOURCE_APP_BYTES               int64\n",
              "REMOTE_APP_BYTES               int64\n",
              "APP_PACKETS                    int64\n",
              "DNS_QUERY_TIMES              float64\n",
              "Type                           int64\n",
              "dtype: object"
            ]
          },
          "metadata": {},
          "execution_count": 187
        }
      ]
    },
    {
      "cell_type": "code",
      "source": [
        "websites.shape"
      ],
      "metadata": {
        "colab": {
          "base_uri": "https://localhost:8080/"
        },
        "id": "vMMv32UToq-r",
        "outputId": "557b53c6-f0f3-43f4-8f50-ee4f7a21b5ca"
      },
      "execution_count": 188,
      "outputs": [
        {
          "output_type": "execute_result",
          "data": {
            "text/plain": [
              "(1781, 21)"
            ]
          },
          "metadata": {},
          "execution_count": 188
        }
      ]
    },
    {
      "cell_type": "code",
      "source": [
        "websites['Type'].value_counts()"
      ],
      "metadata": {
        "colab": {
          "base_uri": "https://localhost:8080/"
        },
        "id": "dEpI2cd7ov5C",
        "outputId": "d9b3b1e3-e8c4-4946-85c4-5bc5fb17f2dc"
      },
      "execution_count": 189,
      "outputs": [
        {
          "output_type": "execute_result",
          "data": {
            "text/plain": [
              "0    1565\n",
              "1     216\n",
              "Name: Type, dtype: int64"
            ]
          },
          "metadata": {},
          "execution_count": 189
        }
      ]
    },
    {
      "cell_type": "code",
      "execution_count": 190,
      "metadata": {
        "colab": {
          "base_uri": "https://localhost:8080/",
          "height": 54
        },
        "id": "zAj9Kcb2mrCZ",
        "outputId": "e1c843bb-a2aa-42e5-f769-5eccb3ac596a"
      },
      "outputs": [
        {
          "output_type": "execute_result",
          "data": {
            "text/plain": [
              "'\\n- The feature we will predict is Type, a 0/1 columns. I guess that 0 values are benign one, as usually there are more good website than malicious ones.\\n- WHOIS_REGDATE & WHOIS_UPDATED_DATE are object type, although they should be datetype. However, I believe they are not needed to guess the target.\\n- We could also drop: URL\\n'"
            ],
            "application/vnd.google.colaboratory.intrinsic+json": {
              "type": "string"
            }
          },
          "metadata": {},
          "execution_count": 190
        }
      ],
      "source": [
        "\"\"\"\n",
        "- The feature we will predict is Type, a 0/1 columns. I guess that 0 values are benign one, as usually there are more good website than malicious ones.\n",
        "- WHOIS_REGDATE & WHOIS_UPDATED_DATE are object type, although they should be datetype. However, I believe they are not needed to guess the target.\n",
        "- We could also drop: URL\n",
        "\"\"\""
      ]
    },
    {
      "cell_type": "markdown",
      "metadata": {
        "id": "jCiOWSi5mrCa"
      },
      "source": [
        "#### Next, evaluate if the columns in this dataset are strongly correlated.\n",
        "\n",
        "If our dataset has strongly correlated columns, we need to choose certain ML algorithms instead of others. We need to evaluate this for our dataset now.\n",
        "\n",
        "Luckily, most of the columns in this dataset are ordinal which makes things a lot easier for us. In the next cells below, evaluate the level of collinearity of the data.\n",
        "\n",
        "We provide some general directions for you to consult in order to complete this step:\n",
        "\n",
        "1. You will create a correlation matrix using the numeric columns in the dataset.\n",
        "\n",
        "1. Create a heatmap using `seaborn` to visualize which columns have high collinearity.\n",
        "\n",
        "1. Comment on which columns you might need to remove due to high collinearity."
      ]
    },
    {
      "cell_type": "code",
      "execution_count": 191,
      "metadata": {
        "colab": {
          "base_uri": "https://localhost:8080/",
          "height": 552
        },
        "id": "PHg-VOqrmrCa",
        "outputId": "8f014757-d906-4fbd-d793-25bf90b9cad7"
      },
      "outputs": [
        {
          "output_type": "execute_result",
          "data": {
            "text/plain": [
              "                           URL_LENGTH  NUMBER_SPECIAL_CHARACTERS  \\\n",
              "URL_LENGTH                   1.000000                   0.917986   \n",
              "NUMBER_SPECIAL_CHARACTERS    0.917986                   1.000000   \n",
              "CONTENT_LENGTH               0.129745                   0.214225   \n",
              "TCP_CONVERSATION_EXCHANGE   -0.038407                  -0.037459   \n",
              "DIST_REMOTE_TCP_PORT        -0.039839                  -0.042619   \n",
              "REMOTE_IPS                  -0.046367                  -0.047103   \n",
              "APP_BYTES                   -0.026446                  -0.023914   \n",
              "SOURCE_APP_PACKETS          -0.042264                  -0.040096   \n",
              "REMOTE_APP_PACKETS          -0.033779                  -0.030597   \n",
              "SOURCE_APP_BYTES            -0.014857                  -0.014376   \n",
              "REMOTE_APP_BYTES            -0.026686                  -0.024098   \n",
              "APP_PACKETS                 -0.042264                  -0.040096   \n",
              "DNS_QUERY_TIMES             -0.068582                  -0.050048   \n",
              "Type                         0.162104                   0.280897   \n",
              "\n",
              "                           CONTENT_LENGTH  TCP_CONVERSATION_EXCHANGE  \\\n",
              "URL_LENGTH                       0.129745                  -0.038407   \n",
              "NUMBER_SPECIAL_CHARACTERS        0.214225                  -0.037459   \n",
              "CONTENT_LENGTH                   1.000000                   0.078451   \n",
              "TCP_CONVERSATION_EXCHANGE        0.078451                   1.000000   \n",
              "DIST_REMOTE_TCP_PORT            -0.000381                   0.555188   \n",
              "REMOTE_IPS                       0.004774                   0.331080   \n",
              "APP_BYTES                        0.051202                   0.457320   \n",
              "SOURCE_APP_PACKETS               0.074142                   0.997796   \n",
              "REMOTE_APP_PACKETS               0.091077                   0.990848   \n",
              "SOURCE_APP_BYTES                 0.100094                   0.865580   \n",
              "REMOTE_APP_BYTES                 0.047595                   0.458702   \n",
              "APP_PACKETS                      0.074142                   0.997796   \n",
              "DNS_QUERY_TIMES                 -0.045644                   0.349832   \n",
              "Type                            -0.090852                  -0.040202   \n",
              "\n",
              "                           DIST_REMOTE_TCP_PORT  REMOTE_IPS  APP_BYTES  \\\n",
              "URL_LENGTH                            -0.039839   -0.046367  -0.026446   \n",
              "NUMBER_SPECIAL_CHARACTERS             -0.042619   -0.047103  -0.023914   \n",
              "CONTENT_LENGTH                        -0.000381    0.004774   0.051202   \n",
              "TCP_CONVERSATION_EXCHANGE              0.555188    0.331080   0.457320   \n",
              "DIST_REMOTE_TCP_PORT                   1.000000    0.210188   0.780238   \n",
              "REMOTE_IPS                             0.210188    1.000000   0.023126   \n",
              "APP_BYTES                              0.780238    0.023126   1.000000   \n",
              "SOURCE_APP_PACKETS                     0.558612    0.361104   0.445822   \n",
              "REMOTE_APP_PACKETS                     0.591188    0.304683   0.468999   \n",
              "SOURCE_APP_BYTES                       0.313359    0.171651   0.074464   \n",
              "REMOTE_APP_BYTES                       0.781212    0.025324   0.999992   \n",
              "APP_PACKETS                            0.558612    0.361104   0.445822   \n",
              "DNS_QUERY_TIMES                        0.259942    0.548189   0.012221   \n",
              "Type                                  -0.082925   -0.078783  -0.011262   \n",
              "\n",
              "                           SOURCE_APP_PACKETS  REMOTE_APP_PACKETS  \\\n",
              "URL_LENGTH                          -0.042264           -0.033779   \n",
              "NUMBER_SPECIAL_CHARACTERS           -0.040096           -0.030597   \n",
              "CONTENT_LENGTH                       0.074142            0.091077   \n",
              "TCP_CONVERSATION_EXCHANGE            0.997796            0.990848   \n",
              "DIST_REMOTE_TCP_PORT                 0.558612            0.591188   \n",
              "REMOTE_IPS                           0.361104            0.304683   \n",
              "APP_BYTES                            0.445822            0.468999   \n",
              "SOURCE_APP_PACKETS                   1.000000            0.989285   \n",
              "REMOTE_APP_PACKETS                   0.989285            1.000000   \n",
              "SOURCE_APP_BYTES                     0.857495            0.880555   \n",
              "REMOTE_APP_BYTES                     0.447448            0.470401   \n",
              "APP_PACKETS                          1.000000            0.989285   \n",
              "DNS_QUERY_TIMES                      0.410843            0.355716   \n",
              "Type                                -0.034414           -0.032897   \n",
              "\n",
              "                           SOURCE_APP_BYTES  REMOTE_APP_BYTES  APP_PACKETS  \\\n",
              "URL_LENGTH                        -0.014857         -0.026686    -0.042264   \n",
              "NUMBER_SPECIAL_CHARACTERS         -0.014376         -0.024098    -0.040096   \n",
              "CONTENT_LENGTH                     0.100094          0.047595     0.074142   \n",
              "TCP_CONVERSATION_EXCHANGE          0.865580          0.458702     0.997796   \n",
              "DIST_REMOTE_TCP_PORT               0.313359          0.781212     0.558612   \n",
              "REMOTE_IPS                         0.171651          0.025324     0.361104   \n",
              "APP_BYTES                          0.074464          0.999992     0.445822   \n",
              "SOURCE_APP_PACKETS                 0.857495          0.447448     1.000000   \n",
              "REMOTE_APP_PACKETS                 0.880555          0.470401     0.989285   \n",
              "SOURCE_APP_BYTES                   1.000000          0.075328     0.857495   \n",
              "REMOTE_APP_BYTES                   0.075328          1.000000     0.447448   \n",
              "APP_PACKETS                        0.857495          0.447448     1.000000   \n",
              "DNS_QUERY_TIMES                    0.215285          0.016215     0.410843   \n",
              "Type                              -0.043852         -0.011004    -0.034414   \n",
              "\n",
              "                           DNS_QUERY_TIMES      Type  \n",
              "URL_LENGTH                       -0.068582  0.162104  \n",
              "NUMBER_SPECIAL_CHARACTERS        -0.050048  0.280897  \n",
              "CONTENT_LENGTH                   -0.045644 -0.090852  \n",
              "TCP_CONVERSATION_EXCHANGE         0.349832 -0.040202  \n",
              "DIST_REMOTE_TCP_PORT              0.259942 -0.082925  \n",
              "REMOTE_IPS                        0.548189 -0.078783  \n",
              "APP_BYTES                         0.012221 -0.011262  \n",
              "SOURCE_APP_PACKETS                0.410843 -0.034414  \n",
              "REMOTE_APP_PACKETS                0.355716 -0.032897  \n",
              "SOURCE_APP_BYTES                  0.215285 -0.043852  \n",
              "REMOTE_APP_BYTES                  0.016215 -0.011004  \n",
              "APP_PACKETS                       0.410843 -0.034414  \n",
              "DNS_QUERY_TIMES                   1.000000  0.068753  \n",
              "Type                              0.068753  1.000000  "
            ],
            "text/html": [
              "\n",
              "  <div id=\"df-b45959a3-e576-4859-ba70-6d40c67e19c4\">\n",
              "    <div class=\"colab-df-container\">\n",
              "      <div>\n",
              "<style scoped>\n",
              "    .dataframe tbody tr th:only-of-type {\n",
              "        vertical-align: middle;\n",
              "    }\n",
              "\n",
              "    .dataframe tbody tr th {\n",
              "        vertical-align: top;\n",
              "    }\n",
              "\n",
              "    .dataframe thead th {\n",
              "        text-align: right;\n",
              "    }\n",
              "</style>\n",
              "<table border=\"1\" class=\"dataframe\">\n",
              "  <thead>\n",
              "    <tr style=\"text-align: right;\">\n",
              "      <th></th>\n",
              "      <th>URL_LENGTH</th>\n",
              "      <th>NUMBER_SPECIAL_CHARACTERS</th>\n",
              "      <th>CONTENT_LENGTH</th>\n",
              "      <th>TCP_CONVERSATION_EXCHANGE</th>\n",
              "      <th>DIST_REMOTE_TCP_PORT</th>\n",
              "      <th>REMOTE_IPS</th>\n",
              "      <th>APP_BYTES</th>\n",
              "      <th>SOURCE_APP_PACKETS</th>\n",
              "      <th>REMOTE_APP_PACKETS</th>\n",
              "      <th>SOURCE_APP_BYTES</th>\n",
              "      <th>REMOTE_APP_BYTES</th>\n",
              "      <th>APP_PACKETS</th>\n",
              "      <th>DNS_QUERY_TIMES</th>\n",
              "      <th>Type</th>\n",
              "    </tr>\n",
              "  </thead>\n",
              "  <tbody>\n",
              "    <tr>\n",
              "      <th>URL_LENGTH</th>\n",
              "      <td>1.000000</td>\n",
              "      <td>0.917986</td>\n",
              "      <td>0.129745</td>\n",
              "      <td>-0.038407</td>\n",
              "      <td>-0.039839</td>\n",
              "      <td>-0.046367</td>\n",
              "      <td>-0.026446</td>\n",
              "      <td>-0.042264</td>\n",
              "      <td>-0.033779</td>\n",
              "      <td>-0.014857</td>\n",
              "      <td>-0.026686</td>\n",
              "      <td>-0.042264</td>\n",
              "      <td>-0.068582</td>\n",
              "      <td>0.162104</td>\n",
              "    </tr>\n",
              "    <tr>\n",
              "      <th>NUMBER_SPECIAL_CHARACTERS</th>\n",
              "      <td>0.917986</td>\n",
              "      <td>1.000000</td>\n",
              "      <td>0.214225</td>\n",
              "      <td>-0.037459</td>\n",
              "      <td>-0.042619</td>\n",
              "      <td>-0.047103</td>\n",
              "      <td>-0.023914</td>\n",
              "      <td>-0.040096</td>\n",
              "      <td>-0.030597</td>\n",
              "      <td>-0.014376</td>\n",
              "      <td>-0.024098</td>\n",
              "      <td>-0.040096</td>\n",
              "      <td>-0.050048</td>\n",
              "      <td>0.280897</td>\n",
              "    </tr>\n",
              "    <tr>\n",
              "      <th>CONTENT_LENGTH</th>\n",
              "      <td>0.129745</td>\n",
              "      <td>0.214225</td>\n",
              "      <td>1.000000</td>\n",
              "      <td>0.078451</td>\n",
              "      <td>-0.000381</td>\n",
              "      <td>0.004774</td>\n",
              "      <td>0.051202</td>\n",
              "      <td>0.074142</td>\n",
              "      <td>0.091077</td>\n",
              "      <td>0.100094</td>\n",
              "      <td>0.047595</td>\n",
              "      <td>0.074142</td>\n",
              "      <td>-0.045644</td>\n",
              "      <td>-0.090852</td>\n",
              "    </tr>\n",
              "    <tr>\n",
              "      <th>TCP_CONVERSATION_EXCHANGE</th>\n",
              "      <td>-0.038407</td>\n",
              "      <td>-0.037459</td>\n",
              "      <td>0.078451</td>\n",
              "      <td>1.000000</td>\n",
              "      <td>0.555188</td>\n",
              "      <td>0.331080</td>\n",
              "      <td>0.457320</td>\n",
              "      <td>0.997796</td>\n",
              "      <td>0.990848</td>\n",
              "      <td>0.865580</td>\n",
              "      <td>0.458702</td>\n",
              "      <td>0.997796</td>\n",
              "      <td>0.349832</td>\n",
              "      <td>-0.040202</td>\n",
              "    </tr>\n",
              "    <tr>\n",
              "      <th>DIST_REMOTE_TCP_PORT</th>\n",
              "      <td>-0.039839</td>\n",
              "      <td>-0.042619</td>\n",
              "      <td>-0.000381</td>\n",
              "      <td>0.555188</td>\n",
              "      <td>1.000000</td>\n",
              "      <td>0.210188</td>\n",
              "      <td>0.780238</td>\n",
              "      <td>0.558612</td>\n",
              "      <td>0.591188</td>\n",
              "      <td>0.313359</td>\n",
              "      <td>0.781212</td>\n",
              "      <td>0.558612</td>\n",
              "      <td>0.259942</td>\n",
              "      <td>-0.082925</td>\n",
              "    </tr>\n",
              "    <tr>\n",
              "      <th>REMOTE_IPS</th>\n",
              "      <td>-0.046367</td>\n",
              "      <td>-0.047103</td>\n",
              "      <td>0.004774</td>\n",
              "      <td>0.331080</td>\n",
              "      <td>0.210188</td>\n",
              "      <td>1.000000</td>\n",
              "      <td>0.023126</td>\n",
              "      <td>0.361104</td>\n",
              "      <td>0.304683</td>\n",
              "      <td>0.171651</td>\n",
              "      <td>0.025324</td>\n",
              "      <td>0.361104</td>\n",
              "      <td>0.548189</td>\n",
              "      <td>-0.078783</td>\n",
              "    </tr>\n",
              "    <tr>\n",
              "      <th>APP_BYTES</th>\n",
              "      <td>-0.026446</td>\n",
              "      <td>-0.023914</td>\n",
              "      <td>0.051202</td>\n",
              "      <td>0.457320</td>\n",
              "      <td>0.780238</td>\n",
              "      <td>0.023126</td>\n",
              "      <td>1.000000</td>\n",
              "      <td>0.445822</td>\n",
              "      <td>0.468999</td>\n",
              "      <td>0.074464</td>\n",
              "      <td>0.999992</td>\n",
              "      <td>0.445822</td>\n",
              "      <td>0.012221</td>\n",
              "      <td>-0.011262</td>\n",
              "    </tr>\n",
              "    <tr>\n",
              "      <th>SOURCE_APP_PACKETS</th>\n",
              "      <td>-0.042264</td>\n",
              "      <td>-0.040096</td>\n",
              "      <td>0.074142</td>\n",
              "      <td>0.997796</td>\n",
              "      <td>0.558612</td>\n",
              "      <td>0.361104</td>\n",
              "      <td>0.445822</td>\n",
              "      <td>1.000000</td>\n",
              "      <td>0.989285</td>\n",
              "      <td>0.857495</td>\n",
              "      <td>0.447448</td>\n",
              "      <td>1.000000</td>\n",
              "      <td>0.410843</td>\n",
              "      <td>-0.034414</td>\n",
              "    </tr>\n",
              "    <tr>\n",
              "      <th>REMOTE_APP_PACKETS</th>\n",
              "      <td>-0.033779</td>\n",
              "      <td>-0.030597</td>\n",
              "      <td>0.091077</td>\n",
              "      <td>0.990848</td>\n",
              "      <td>0.591188</td>\n",
              "      <td>0.304683</td>\n",
              "      <td>0.468999</td>\n",
              "      <td>0.989285</td>\n",
              "      <td>1.000000</td>\n",
              "      <td>0.880555</td>\n",
              "      <td>0.470401</td>\n",
              "      <td>0.989285</td>\n",
              "      <td>0.355716</td>\n",
              "      <td>-0.032897</td>\n",
              "    </tr>\n",
              "    <tr>\n",
              "      <th>SOURCE_APP_BYTES</th>\n",
              "      <td>-0.014857</td>\n",
              "      <td>-0.014376</td>\n",
              "      <td>0.100094</td>\n",
              "      <td>0.865580</td>\n",
              "      <td>0.313359</td>\n",
              "      <td>0.171651</td>\n",
              "      <td>0.074464</td>\n",
              "      <td>0.857495</td>\n",
              "      <td>0.880555</td>\n",
              "      <td>1.000000</td>\n",
              "      <td>0.075328</td>\n",
              "      <td>0.857495</td>\n",
              "      <td>0.215285</td>\n",
              "      <td>-0.043852</td>\n",
              "    </tr>\n",
              "    <tr>\n",
              "      <th>REMOTE_APP_BYTES</th>\n",
              "      <td>-0.026686</td>\n",
              "      <td>-0.024098</td>\n",
              "      <td>0.047595</td>\n",
              "      <td>0.458702</td>\n",
              "      <td>0.781212</td>\n",
              "      <td>0.025324</td>\n",
              "      <td>0.999992</td>\n",
              "      <td>0.447448</td>\n",
              "      <td>0.470401</td>\n",
              "      <td>0.075328</td>\n",
              "      <td>1.000000</td>\n",
              "      <td>0.447448</td>\n",
              "      <td>0.016215</td>\n",
              "      <td>-0.011004</td>\n",
              "    </tr>\n",
              "    <tr>\n",
              "      <th>APP_PACKETS</th>\n",
              "      <td>-0.042264</td>\n",
              "      <td>-0.040096</td>\n",
              "      <td>0.074142</td>\n",
              "      <td>0.997796</td>\n",
              "      <td>0.558612</td>\n",
              "      <td>0.361104</td>\n",
              "      <td>0.445822</td>\n",
              "      <td>1.000000</td>\n",
              "      <td>0.989285</td>\n",
              "      <td>0.857495</td>\n",
              "      <td>0.447448</td>\n",
              "      <td>1.000000</td>\n",
              "      <td>0.410843</td>\n",
              "      <td>-0.034414</td>\n",
              "    </tr>\n",
              "    <tr>\n",
              "      <th>DNS_QUERY_TIMES</th>\n",
              "      <td>-0.068582</td>\n",
              "      <td>-0.050048</td>\n",
              "      <td>-0.045644</td>\n",
              "      <td>0.349832</td>\n",
              "      <td>0.259942</td>\n",
              "      <td>0.548189</td>\n",
              "      <td>0.012221</td>\n",
              "      <td>0.410843</td>\n",
              "      <td>0.355716</td>\n",
              "      <td>0.215285</td>\n",
              "      <td>0.016215</td>\n",
              "      <td>0.410843</td>\n",
              "      <td>1.000000</td>\n",
              "      <td>0.068753</td>\n",
              "    </tr>\n",
              "    <tr>\n",
              "      <th>Type</th>\n",
              "      <td>0.162104</td>\n",
              "      <td>0.280897</td>\n",
              "      <td>-0.090852</td>\n",
              "      <td>-0.040202</td>\n",
              "      <td>-0.082925</td>\n",
              "      <td>-0.078783</td>\n",
              "      <td>-0.011262</td>\n",
              "      <td>-0.034414</td>\n",
              "      <td>-0.032897</td>\n",
              "      <td>-0.043852</td>\n",
              "      <td>-0.011004</td>\n",
              "      <td>-0.034414</td>\n",
              "      <td>0.068753</td>\n",
              "      <td>1.000000</td>\n",
              "    </tr>\n",
              "  </tbody>\n",
              "</table>\n",
              "</div>\n",
              "      <button class=\"colab-df-convert\" onclick=\"convertToInteractive('df-b45959a3-e576-4859-ba70-6d40c67e19c4')\"\n",
              "              title=\"Convert this dataframe to an interactive table.\"\n",
              "              style=\"display:none;\">\n",
              "        \n",
              "  <svg xmlns=\"http://www.w3.org/2000/svg\" height=\"24px\"viewBox=\"0 0 24 24\"\n",
              "       width=\"24px\">\n",
              "    <path d=\"M0 0h24v24H0V0z\" fill=\"none\"/>\n",
              "    <path d=\"M18.56 5.44l.94 2.06.94-2.06 2.06-.94-2.06-.94-.94-2.06-.94 2.06-2.06.94zm-11 1L8.5 8.5l.94-2.06 2.06-.94-2.06-.94L8.5 2.5l-.94 2.06-2.06.94zm10 10l.94 2.06.94-2.06 2.06-.94-2.06-.94-.94-2.06-.94 2.06-2.06.94z\"/><path d=\"M17.41 7.96l-1.37-1.37c-.4-.4-.92-.59-1.43-.59-.52 0-1.04.2-1.43.59L10.3 9.45l-7.72 7.72c-.78.78-.78 2.05 0 2.83L4 21.41c.39.39.9.59 1.41.59.51 0 1.02-.2 1.41-.59l7.78-7.78 2.81-2.81c.8-.78.8-2.07 0-2.86zM5.41 20L4 18.59l7.72-7.72 1.47 1.35L5.41 20z\"/>\n",
              "  </svg>\n",
              "      </button>\n",
              "      \n",
              "  <style>\n",
              "    .colab-df-container {\n",
              "      display:flex;\n",
              "      flex-wrap:wrap;\n",
              "      gap: 12px;\n",
              "    }\n",
              "\n",
              "    .colab-df-convert {\n",
              "      background-color: #E8F0FE;\n",
              "      border: none;\n",
              "      border-radius: 50%;\n",
              "      cursor: pointer;\n",
              "      display: none;\n",
              "      fill: #1967D2;\n",
              "      height: 32px;\n",
              "      padding: 0 0 0 0;\n",
              "      width: 32px;\n",
              "    }\n",
              "\n",
              "    .colab-df-convert:hover {\n",
              "      background-color: #E2EBFA;\n",
              "      box-shadow: 0px 1px 2px rgba(60, 64, 67, 0.3), 0px 1px 3px 1px rgba(60, 64, 67, 0.15);\n",
              "      fill: #174EA6;\n",
              "    }\n",
              "\n",
              "    [theme=dark] .colab-df-convert {\n",
              "      background-color: #3B4455;\n",
              "      fill: #D2E3FC;\n",
              "    }\n",
              "\n",
              "    [theme=dark] .colab-df-convert:hover {\n",
              "      background-color: #434B5C;\n",
              "      box-shadow: 0px 1px 3px 1px rgba(0, 0, 0, 0.15);\n",
              "      filter: drop-shadow(0px 1px 2px rgba(0, 0, 0, 0.3));\n",
              "      fill: #FFFFFF;\n",
              "    }\n",
              "  </style>\n",
              "\n",
              "      <script>\n",
              "        const buttonEl =\n",
              "          document.querySelector('#df-b45959a3-e576-4859-ba70-6d40c67e19c4 button.colab-df-convert');\n",
              "        buttonEl.style.display =\n",
              "          google.colab.kernel.accessAllowed ? 'block' : 'none';\n",
              "\n",
              "        async function convertToInteractive(key) {\n",
              "          const element = document.querySelector('#df-b45959a3-e576-4859-ba70-6d40c67e19c4');\n",
              "          const dataTable =\n",
              "            await google.colab.kernel.invokeFunction('convertToInteractive',\n",
              "                                                     [key], {});\n",
              "          if (!dataTable) return;\n",
              "\n",
              "          const docLinkHtml = 'Like what you see? Visit the ' +\n",
              "            '<a target=\"_blank\" href=https://colab.research.google.com/notebooks/data_table.ipynb>data table notebook</a>'\n",
              "            + ' to learn more about interactive tables.';\n",
              "          element.innerHTML = '';\n",
              "          dataTable['output_type'] = 'display_data';\n",
              "          await google.colab.output.renderOutput(dataTable, element);\n",
              "          const docLink = document.createElement('div');\n",
              "          docLink.innerHTML = docLinkHtml;\n",
              "          element.appendChild(docLink);\n",
              "        }\n",
              "      </script>\n",
              "    </div>\n",
              "  </div>\n",
              "  "
            ]
          },
          "metadata": {},
          "execution_count": 191
        }
      ],
      "source": [
        "websites.corr()"
      ]
    },
    {
      "cell_type": "code",
      "source": [
        "plt.figure(figsize=(16, 6))\n",
        "\n",
        "heatmap = sns.heatmap(websites.corr(), annot=True)\n",
        "\n",
        "heatmap.set_title('Correlation Heatmap', fontdict={'fontsize':12}, pad=12)"
      ],
      "metadata": {
        "colab": {
          "base_uri": "https://localhost:8080/",
          "height": 566
        },
        "id": "H49lWExGqDmk",
        "outputId": "8942c8f6-c781-4e92-859e-33a6665fda69"
      },
      "execution_count": 192,
      "outputs": [
        {
          "output_type": "execute_result",
          "data": {
            "text/plain": [
              "Text(0.5, 1.0, 'Correlation Heatmap')"
            ]
          },
          "metadata": {},
          "execution_count": 192
        },
        {
          "output_type": "display_data",
          "data": {
            "text/plain": [
              "<Figure size 1152x432 with 2 Axes>"
            ],
            "image/png": "[encoded data removed]"
          },
          "metadata": {
            "needs_background": "light"
          }
        }
      ]
    },
    {
      "cell_type": "code",
      "execution_count": 193,
      "metadata": {
        "id": "UzYkhAnImrCa",
        "colab": {
          "base_uri": "https://localhost:8080/",
          "height": 36
        },
        "outputId": "8ba2cb76-f0d9-4d74-ed10-93a88690bfc1"
      },
      "outputs": [
        {
          "output_type": "execute_result",
          "data": {
            "text/plain": [
              "'\\n- Columns to remove because a high correlation value:\\n  URL_LENGTH\\n  TCP_CONVERSATION_EXCHANGE\\n  SOURCE_APP_PACKETS\\n  REMOTE_APP_PACKETS\\n'"
            ],
            "application/vnd.google.colaboratory.intrinsic+json": {
              "type": "string"
            }
          },
          "metadata": {},
          "execution_count": 193
        }
      ],
      "source": [
        "\"\"\"\n",
        "- Columns to remove because a high correlation value:\n",
        "  URL_LENGTH\n",
        "  TCP_CONVERSATION_EXCHANGE\n",
        "  SOURCE_APP_PACKETS\n",
        "  REMOTE_APP_PACKETS\n",
        "\"\"\""
      ]
    },
    {
      "cell_type": "markdown",
      "metadata": {
        "id": "j6kREQtcmrCb"
      },
      "source": [
        "# Challenge 2 - Remove Column Collinearity.\n",
        "\n",
        "From the heatmap you created, you should have seen at least 3 columns that can be removed due to high collinearity. Remove these columns from the dataset.\n",
        "\n",
        "Note that you should remove as few columns as you can. You don't have to remove all the columns at once. But instead, try removing one column, then produce the heatmap again to determine if additional columns should be removed. As long as the dataset no longer contains columns that are correlated for over 90%, you can stop. Also, keep in mind when two columns have high collinearity, you only need to remove one of them but not both.\n",
        "\n",
        "In the cells below, remove as few columns as you can to eliminate the high collinearity in the dataset. Make sure to comment on your way so that the instructional team can learn about your thinking process which allows them to give feedback. At the end, print the heatmap again."
      ]
    },
    {
      "cell_type": "code",
      "execution_count": 194,
      "metadata": {
        "id": "pe5DGPNomrCb"
      },
      "outputs": [],
      "source": [
        "websites.drop(columns=['URL_LENGTH'], axis=1, inplace = True)"
      ]
    },
    {
      "cell_type": "code",
      "source": [
        "websites.drop(columns=['TCP_CONVERSATION_EXCHANGE'], axis=1, inplace = True)"
      ],
      "metadata": {
        "id": "laspZj-YhKcO"
      },
      "execution_count": 195,
      "outputs": []
    },
    {
      "cell_type": "code",
      "source": [
        "websites.drop(columns=['SOURCE_APP_PACKETS'], axis=1, inplace = True)"
      ],
      "metadata": {
        "id": "yvnwI6qehknn"
      },
      "execution_count": 196,
      "outputs": []
    },
    {
      "cell_type": "code",
      "source": [
        "websites.drop(columns=['REMOTE_APP_PACKETS'], axis=1, inplace = True)"
      ],
      "metadata": {
        "id": "UpQuaFKWh21P"
      },
      "execution_count": 197,
      "outputs": []
    },
    {
      "cell_type": "code",
      "source": [
        "websites.drop(columns=['REMOTE_APP_BYTES'], axis=1, inplace = True)"
      ],
      "metadata": {
        "id": "z6c6IlNph-Je"
      },
      "execution_count": 198,
      "outputs": []
    },
    {
      "cell_type": "code",
      "execution_count": 199,
      "metadata": {
        "id": "vPi4CHb1mrCc",
        "colab": {
          "base_uri": "https://localhost:8080/",
          "height": 339
        },
        "outputId": "f4946aab-8e1b-45e4-9ea6-7a130fd46a16"
      },
      "outputs": [
        {
          "output_type": "execute_result",
          "data": {
            "text/plain": [
              "       URL  NUMBER_SPECIAL_CHARACTERS     CHARSET                 SERVER  \\\n",
              "0   M0_109                          7  iso-8859-1                  nginx   \n",
              "1  B0_2314                          6       UTF-8          Apache/2.4.10   \n",
              "2   B0_911                          6    us-ascii  Microsoft-HTTPAPI/2.0   \n",
              "3   B0_113                          6  ISO-8859-1                  nginx   \n",
              "4   B0_403                          6       UTF-8                   None   \n",
              "\n",
              "   CONTENT_LENGTH WHOIS_COUNTRY WHOIS_STATEPRO     WHOIS_REGDATE  \\\n",
              "0           263.0          None           None  10/10/2015 18:21   \n",
              "1         15087.0          None           None              None   \n",
              "2           324.0          None           None              None   \n",
              "3           162.0            US             AK    7/10/1997 4:00   \n",
              "4        124140.0            US             TX   12/05/1996 0:00   \n",
              "\n",
              "  WHOIS_UPDATED_DATE  DIST_REMOTE_TCP_PORT  REMOTE_IPS  APP_BYTES  \\\n",
              "0               None                     0           2        700   \n",
              "1               None                     7           4       1230   \n",
              "2               None                     0           0          0   \n",
              "3    12/09/2013 0:45                    22           3       3812   \n",
              "4    11/04/2017 0:00                     2           5       4278   \n",
              "\n",
              "   SOURCE_APP_BYTES  APP_PACKETS  DNS_QUERY_TIMES  Type  \n",
              "0              1153            9              2.0     1  \n",
              "1              1265           17              0.0     0  \n",
              "2                 0            0              0.0     0  \n",
              "3             18784           39              8.0     0  \n",
              "4            129889           61              4.0     0  "
            ],
            "text/html": [
              "\n",
              "  <div id=\"df-e963ee48-c67d-44bb-955c-1d79ff3eed62\">\n",
              "    <div class=\"colab-df-container\">\n",
              "      <div>\n",
              "<style scoped>\n",
              "    .dataframe tbody tr th:only-of-type {\n",
              "        vertical-align: middle;\n",
              "    }\n",
              "\n",
              "    .dataframe tbody tr th {\n",
              "        vertical-align: top;\n",
              "    }\n",
              "\n",
              "    .dataframe thead th {\n",
              "        text-align: right;\n",
              "    }\n",
              "</style>\n",
              "<table border=\"1\" class=\"dataframe\">\n",
              "  <thead>\n",
              "    <tr style=\"text-align: right;\">\n",
              "      <th></th>\n",
              "      <th>URL</th>\n",
              "      <th>NUMBER_SPECIAL_CHARACTERS</th>\n",
              "      <th>CHARSET</th>\n",
              "      <th>SERVER</th>\n",
              "      <th>CONTENT_LENGTH</th>\n",
              "      <th>WHOIS_COUNTRY</th>\n",
              "      <th>WHOIS_STATEPRO</th>\n",
              "      <th>WHOIS_REGDATE</th>\n",
              "      <th>WHOIS_UPDATED_DATE</th>\n",
              "      <th>DIST_REMOTE_TCP_PORT</th>\n",
              "      <th>REMOTE_IPS</th>\n",
              "      <th>APP_BYTES</th>\n",
              "      <th>SOURCE_APP_BYTES</th>\n",
              "      <th>APP_PACKETS</th>\n",
              "      <th>DNS_QUERY_TIMES</th>\n",
              "      <th>Type</th>\n",
              "    </tr>\n",
              "  </thead>\n",
              "  <tbody>\n",
              "    <tr>\n",
              "      <th>0</th>\n",
              "      <td>M0_109</td>\n",
              "      <td>7</td>\n",
              "      <td>iso-8859-1</td>\n",
              "      <td>nginx</td>\n",
              "      <td>263.0</td>\n",
              "      <td>None</td>\n",
              "      <td>None</td>\n",
              "      <td>10/10/2015 18:21</td>\n",
              "      <td>None</td>\n",
              "      <td>0</td>\n",
              "      <td>2</td>\n",
              "      <td>700</td>\n",
              "      <td>1153</td>\n",
              "      <td>9</td>\n",
              "      <td>2.0</td>\n",
              "      <td>1</td>\n",
              "    </tr>\n",
              "    <tr>\n",
              "      <th>1</th>\n",
              "      <td>B0_2314</td>\n",
              "      <td>6</td>\n",
              "      <td>UTF-8</td>\n",
              "      <td>Apache/2.4.10</td>\n",
              "      <td>15087.0</td>\n",
              "      <td>None</td>\n",
              "      <td>None</td>\n",
              "      <td>None</td>\n",
              "      <td>None</td>\n",
              "      <td>7</td>\n",
              "      <td>4</td>\n",
              "      <td>1230</td>\n",
              "      <td>1265</td>\n",
              "      <td>17</td>\n",
              "      <td>0.0</td>\n",
              "      <td>0</td>\n",
              "    </tr>\n",
              "    <tr>\n",
              "      <th>2</th>\n",
              "      <td>B0_911</td>\n",
              "      <td>6</td>\n",
              "      <td>us-ascii</td>\n",
              "      <td>Microsoft-HTTPAPI/2.0</td>\n",
              "      <td>324.0</td>\n",
              "      <td>None</td>\n",
              "      <td>None</td>\n",
              "      <td>None</td>\n",
              "      <td>None</td>\n",
              "      <td>0</td>\n",
              "      <td>0</td>\n",
              "      <td>0</td>\n",
              "      <td>0</td>\n",
              "      <td>0</td>\n",
              "      <td>0.0</td>\n",
              "      <td>0</td>\n",
              "    </tr>\n",
              "    <tr>\n",
              "      <th>3</th>\n",
              "      <td>B0_113</td>\n",
              "      <td>6</td>\n",
              "      <td>ISO-8859-1</td>\n",
              "      <td>nginx</td>\n",
              "      <td>162.0</td>\n",
              "      <td>US</td>\n",
              "      <td>AK</td>\n",
              "      <td>7/10/1997 4:00</td>\n",
              "      <td>12/09/2013 0:45</td>\n",
              "      <td>22</td>\n",
              "      <td>3</td>\n",
              "      <td>3812</td>\n",
              "      <td>18784</td>\n",
              "      <td>39</td>\n",
              "      <td>8.0</td>\n",
              "      <td>0</td>\n",
              "    </tr>\n",
              "    <tr>\n",
              "      <th>4</th>\n",
              "      <td>B0_403</td>\n",
              "      <td>6</td>\n",
              "      <td>UTF-8</td>\n",
              "      <td>None</td>\n",
              "      <td>124140.0</td>\n",
              "      <td>US</td>\n",
              "      <td>TX</td>\n",
              "      <td>12/05/1996 0:00</td>\n",
              "      <td>11/04/2017 0:00</td>\n",
              "      <td>2</td>\n",
              "      <td>5</td>\n",
              "      <td>4278</td>\n",
              "      <td>129889</td>\n",
              "      <td>61</td>\n",
              "      <td>4.0</td>\n",
              "      <td>0</td>\n",
              "    </tr>\n",
              "  </tbody>\n",
              "</table>\n",
              "</div>\n",
              "      <button class=\"colab-df-convert\" onclick=\"convertToInteractive('df-e963ee48-c67d-44bb-955c-1d79ff3eed62')\"\n",
              "              title=\"Convert this dataframe to an interactive table.\"\n",
              "              style=\"display:none;\">\n",
              "        \n",
              "  <svg xmlns=\"http://www.w3.org/2000/svg\" height=\"24px\"viewBox=\"0 0 24 24\"\n",
              "       width=\"24px\">\n",
              "    <path d=\"M0 0h24v24H0V0z\" fill=\"none\"/>\n",
              "    <path d=\"M18.56 5.44l.94 2.06.94-2.06 2.06-.94-2.06-.94-.94-2.06-.94 2.06-2.06.94zm-11 1L8.5 8.5l.94-2.06 2.06-.94-2.06-.94L8.5 2.5l-.94 2.06-2.06.94zm10 10l.94 2.06.94-2.06 2.06-.94-2.06-.94-.94-2.06-.94 2.06-2.06.94z\"/><path d=\"M17.41 7.96l-1.37-1.37c-.4-.4-.92-.59-1.43-.59-.52 0-1.04.2-1.43.59L10.3 9.45l-7.72 7.72c-.78.78-.78 2.05 0 2.83L4 21.41c.39.39.9.59 1.41.59.51 0 1.02-.2 1.41-.59l7.78-7.78 2.81-2.81c.8-.78.8-2.07 0-2.86zM5.41 20L4 18.59l7.72-7.72 1.47 1.35L5.41 20z\"/>\n",
              "  </svg>\n",
              "      </button>\n",
              "      \n",
              "  <style>\n",
              "    .colab-df-container {\n",
              "      display:flex;\n",
              "      flex-wrap:wrap;\n",
              "      gap: 12px;\n",
              "    }\n",
              "\n",
              "    .colab-df-convert {\n",
              "      background-color: #E8F0FE;\n",
              "      border: none;\n",
              "      border-radius: 50%;\n",
              "      cursor: pointer;\n",
              "      display: none;\n",
              "      fill: #1967D2;\n",
              "      height: 32px;\n",
              "      padding: 0 0 0 0;\n",
              "      width: 32px;\n",
              "    }\n",
              "\n",
              "    .colab-df-convert:hover {\n",
              "      background-color: #E2EBFA;\n",
              "      box-shadow: 0px 1px 2px rgba(60, 64, 67, 0.3), 0px 1px 3px 1px rgba(60, 64, 67, 0.15);\n",
              "      fill: #174EA6;\n",
              "    }\n",
              "\n",
              "    [theme=dark] .colab-df-convert {\n",
              "      background-color: #3B4455;\n",
              "      fill: #D2E3FC;\n",
              "    }\n",
              "\n",
              "    [theme=dark] .colab-df-convert:hover {\n",
              "      background-color: #434B5C;\n",
              "      box-shadow: 0px 1px 3px 1px rgba(0, 0, 0, 0.15);\n",
              "      filter: drop-shadow(0px 1px 2px rgba(0, 0, 0, 0.3));\n",
              "      fill: #FFFFFF;\n",
              "    }\n",
              "  </style>\n",
              "\n",
              "      <script>\n",
              "        const buttonEl =\n",
              "          document.querySelector('#df-e963ee48-c67d-44bb-955c-1d79ff3eed62 button.colab-df-convert');\n",
              "        buttonEl.style.display =\n",
              "          google.colab.kernel.accessAllowed ? 'block' : 'none';\n",
              "\n",
              "        async function convertToInteractive(key) {\n",
              "          const element = document.querySelector('#df-e963ee48-c67d-44bb-955c-1d79ff3eed62');\n",
              "          const dataTable =\n",
              "            await google.colab.kernel.invokeFunction('convertToInteractive',\n",
              "                                                     [key], {});\n",
              "          if (!dataTable) return;\n",
              "\n",
              "          const docLinkHtml = 'Like what you see? Visit the ' +\n",
              "            '<a target=\"_blank\" href=https://colab.research.google.com/notebooks/data_table.ipynb>data table notebook</a>'\n",
              "            + ' to learn more about interactive tables.';\n",
              "          element.innerHTML = '';\n",
              "          dataTable['output_type'] = 'display_data';\n",
              "          await google.colab.output.renderOutput(dataTable, element);\n",
              "          const docLink = document.createElement('div');\n",
              "          docLink.innerHTML = docLinkHtml;\n",
              "          element.appendChild(docLink);\n",
              "        }\n",
              "      </script>\n",
              "    </div>\n",
              "  </div>\n",
              "  "
            ]
          },
          "metadata": {},
          "execution_count": 199
        }
      ],
      "source": [
        "websites.head()"
      ]
    },
    {
      "cell_type": "code",
      "execution_count": 200,
      "metadata": {
        "id": "ih9tcAwBmrCc",
        "colab": {
          "base_uri": "https://localhost:8080/",
          "height": 565
        },
        "outputId": "3c9c69fc-ff0a-4e39-f82a-ee1a91bc0b99"
      },
      "outputs": [
        {
          "output_type": "execute_result",
          "data": {
            "text/plain": [
              "Text(0.5, 1.0, 'Correlation Heatmap')"
            ]
          },
          "metadata": {},
          "execution_count": 200
        },
        {
          "output_type": "display_data",
          "data": {
            "text/plain": [
              "<Figure size 1152x432 with 2 Axes>"
            ],
            "image/png": "[encoded data removed]"
          },
          "metadata": {
            "needs_background": "light"
          }
        }
      ],
      "source": [
        "plt.figure(figsize=(16, 6))\n",
        "\n",
        "heatmap = sns.heatmap(websites.corr(), annot=True)\n",
        "\n",
        "heatmap.set_title('Correlation Heatmap', fontdict={'fontsize':12}, pad=12)\n"
      ]
    },
    {
      "cell_type": "code",
      "source": [
        "'''\n",
        "I kept removing columns until there was not any correlation higher than 0,90\n",
        "'''"
      ],
      "metadata": {
        "colab": {
          "base_uri": "https://localhost:8080/",
          "height": 36
        },
        "id": "fRVrMIWpiEGt",
        "outputId": "d1974c93-98c7-41d5-c7ed-e141f28887c1"
      },
      "execution_count": 201,
      "outputs": [
        {
          "output_type": "execute_result",
          "data": {
            "text/plain": [
              "'\\nI kept removing columns until there was not any correlation higher than 0,90\\n'"
            ],
            "application/vnd.google.colaboratory.intrinsic+json": {
              "type": "string"
            }
          },
          "metadata": {},
          "execution_count": 201
        }
      ]
    },
    {
      "cell_type": "markdown",
      "metadata": {
        "id": "XBjvCB6GmrCc"
      },
      "source": [
        "# Challenge 3 - Handle Missing Values\n",
        "\n",
        "The next step would be handling missing values. **We start by examining the number of missing values in each column, which you will do in the next cell.**"
      ]
    },
    {
      "cell_type": "code",
      "execution_count": 202,
      "metadata": {
        "id": "6LDy2BFlmrCc",
        "colab": {
          "base_uri": "https://localhost:8080/"
        },
        "outputId": "38e1f1dc-656b-46ba-c1c0-05efa092dc6d"
      },
      "outputs": [
        {
          "output_type": "execute_result",
          "data": {
            "text/plain": [
              "URL                            0\n",
              "NUMBER_SPECIAL_CHARACTERS      0\n",
              "CHARSET                        0\n",
              "SERVER                         1\n",
              "CONTENT_LENGTH               812\n",
              "WHOIS_COUNTRY                  0\n",
              "WHOIS_STATEPRO                 0\n",
              "WHOIS_REGDATE                  0\n",
              "WHOIS_UPDATED_DATE             0\n",
              "DIST_REMOTE_TCP_PORT           0\n",
              "REMOTE_IPS                     0\n",
              "APP_BYTES                      0\n",
              "SOURCE_APP_BYTES               0\n",
              "APP_PACKETS                    0\n",
              "DNS_QUERY_TIMES                1\n",
              "Type                           0\n",
              "dtype: int64"
            ]
          },
          "metadata": {},
          "execution_count": 202
        }
      ],
      "source": [
        "websites.isna().sum()"
      ]
    },
    {
      "cell_type": "markdown",
      "metadata": {
        "id": "J23KkpiMmrCd"
      },
      "source": [
        "If you remember in the previous labs, we drop a column if the column contains a high proportion of missing values. After dropping those problematic columns, we drop the rows with missing values.\n",
        "\n",
        "#### In the cells below, handle the missing values from the dataset. Remember to comment the rationale of your decisions."
      ]
    },
    {
      "cell_type": "code",
      "execution_count": 203,
      "metadata": {
        "id": "TTG5qylgmrCd"
      },
      "outputs": [],
      "source": [
        "websites.drop(columns=['CONTENT_LENGTH'], axis=1, inplace = True)"
      ]
    },
    {
      "cell_type": "code",
      "execution_count": 204,
      "metadata": {
        "id": "_tBomzD3mrCd",
        "colab": {
          "base_uri": "https://localhost:8080/"
        },
        "outputId": "0474d7af-919a-4e71-aac7-a81c1e15715f"
      },
      "outputs": [
        {
          "output_type": "execute_result",
          "data": {
            "text/plain": [
              "URL                          0\n",
              "NUMBER_SPECIAL_CHARACTERS    0\n",
              "CHARSET                      0\n",
              "SERVER                       1\n",
              "WHOIS_COUNTRY                0\n",
              "WHOIS_STATEPRO               0\n",
              "WHOIS_REGDATE                0\n",
              "WHOIS_UPDATED_DATE           0\n",
              "DIST_REMOTE_TCP_PORT         0\n",
              "REMOTE_IPS                   0\n",
              "APP_BYTES                    0\n",
              "SOURCE_APP_BYTES             0\n",
              "APP_PACKETS                  0\n",
              "DNS_QUERY_TIMES              1\n",
              "Type                         0\n",
              "dtype: int64"
            ]
          },
          "metadata": {},
          "execution_count": 204
        }
      ],
      "source": [
        "websites.isna().sum()"
      ]
    },
    {
      "cell_type": "code",
      "source": [
        "websites[websites['SERVER'].isnull()]"
      ],
      "metadata": {
        "colab": {
          "base_uri": "https://localhost:8080/",
          "height": 162
        },
        "id": "DcQnH9Prk9eI",
        "outputId": "8dffc354-9314-4b96-a7f8-4c398f7a0e9b"
      },
      "execution_count": 205,
      "outputs": [
        {
          "output_type": "execute_result",
          "data": {
            "text/plain": [
              "          URL  NUMBER_SPECIAL_CHARACTERS CHARSET SERVER WHOIS_COUNTRY  \\\n",
              "1306  B0_2134                         11   UTF-8    NaN            US   \n",
              "\n",
              "            WHOIS_STATEPRO    WHOIS_REGDATE WHOIS_UPDATED_DATE  \\\n",
              "1306  District of Columbia  1/02/2003 16:44    2/02/2017 17:11   \n",
              "\n",
              "      DIST_REMOTE_TCP_PORT  REMOTE_IPS  APP_BYTES  SOURCE_APP_BYTES  \\\n",
              "1306                     2           4       1026               246   \n",
              "\n",
              "      APP_PACKETS  DNS_QUERY_TIMES  Type  \n",
              "1306           15              0.0     0  "
            ],
            "text/html": [
              "\n",
              "  <div id=\"df-783759e7-5341-4c3e-8858-17995aa65f1d\">\n",
              "    <div class=\"colab-df-container\">\n",
              "      <div>\n",
              "<style scoped>\n",
              "    .dataframe tbody tr th:only-of-type {\n",
              "        vertical-align: middle;\n",
              "    }\n",
              "\n",
              "    .dataframe tbody tr th {\n",
              "        vertical-align: top;\n",
              "    }\n",
              "\n",
              "    .dataframe thead th {\n",
              "        text-align: right;\n",
              "    }\n",
              "</style>\n",
              "<table border=\"1\" class=\"dataframe\">\n",
              "  <thead>\n",
              "    <tr style=\"text-align: right;\">\n",
              "      <th></th>\n",
              "      <th>URL</th>\n",
              "      <th>NUMBER_SPECIAL_CHARACTERS</th>\n",
              "      <th>CHARSET</th>\n",
              "      <th>SERVER</th>\n",
              "      <th>WHOIS_COUNTRY</th>\n",
              "      <th>WHOIS_STATEPRO</th>\n",
              "      <th>WHOIS_REGDATE</th>\n",
              "      <th>WHOIS_UPDATED_DATE</th>\n",
              "      <th>DIST_REMOTE_TCP_PORT</th>\n",
              "      <th>REMOTE_IPS</th>\n",
              "      <th>APP_BYTES</th>\n",
              "      <th>SOURCE_APP_BYTES</th>\n",
              "      <th>APP_PACKETS</th>\n",
              "      <th>DNS_QUERY_TIMES</th>\n",
              "      <th>Type</th>\n",
              "    </tr>\n",
              "  </thead>\n",
              "  <tbody>\n",
              "    <tr>\n",
              "      <th>1306</th>\n",
              "      <td>B0_2134</td>\n",
              "      <td>11</td>\n",
              "      <td>UTF-8</td>\n",
              "      <td>NaN</td>\n",
              "      <td>US</td>\n",
              "      <td>District of Columbia</td>\n",
              "      <td>1/02/2003 16:44</td>\n",
              "      <td>2/02/2017 17:11</td>\n",
              "      <td>2</td>\n",
              "      <td>4</td>\n",
              "      <td>1026</td>\n",
              "      <td>246</td>\n",
              "      <td>15</td>\n",
              "      <td>0.0</td>\n",
              "      <td>0</td>\n",
              "    </tr>\n",
              "  </tbody>\n",
              "</table>\n",
              "</div>\n",
              "      <button class=\"colab-df-convert\" onclick=\"convertToInteractive('df-783759e7-5341-4c3e-8858-17995aa65f1d')\"\n",
              "              title=\"Convert this dataframe to an interactive table.\"\n",
              "              style=\"display:none;\">\n",
              "        \n",
              "  <svg xmlns=\"http://www.w3.org/2000/svg\" height=\"24px\"viewBox=\"0 0 24 24\"\n",
              "       width=\"24px\">\n",
              "    <path d=\"M0 0h24v24H0V0z\" fill=\"none\"/>\n",
              "    <path d=\"M18.56 5.44l.94 2.06.94-2.06 2.06-.94-2.06-.94-.94-2.06-.94 2.06-2.06.94zm-11 1L8.5 8.5l.94-2.06 2.06-.94-2.06-.94L8.5 2.5l-.94 2.06-2.06.94zm10 10l.94 2.06.94-2.06 2.06-.94-2.06-.94-.94-2.06-.94 2.06-2.06.94z\"/><path d=\"M17.41 7.96l-1.37-1.37c-.4-.4-.92-.59-1.43-.59-.52 0-1.04.2-1.43.59L10.3 9.45l-7.72 7.72c-.78.78-.78 2.05 0 2.83L4 21.41c.39.39.9.59 1.41.59.51 0 1.02-.2 1.41-.59l7.78-7.78 2.81-2.81c.8-.78.8-2.07 0-2.86zM5.41 20L4 18.59l7.72-7.72 1.47 1.35L5.41 20z\"/>\n",
              "  </svg>\n",
              "      </button>\n",
              "      \n",
              "  <style>\n",
              "    .colab-df-container {\n",
              "      display:flex;\n",
              "      flex-wrap:wrap;\n",
              "      gap: 12px;\n",
              "    }\n",
              "\n",
              "    .colab-df-convert {\n",
              "      background-color: #E8F0FE;\n",
              "      border: none;\n",
              "      border-radius: 50%;\n",
              "      cursor: pointer;\n",
              "      display: none;\n",
              "      fill: #1967D2;\n",
              "      height: 32px;\n",
              "      padding: 0 0 0 0;\n",
              "      width: 32px;\n",
              "    }\n",
              "\n",
              "    .colab-df-convert:hover {\n",
              "      background-color: #E2EBFA;\n",
              "      box-shadow: 0px 1px 2px rgba(60, 64, 67, 0.3), 0px 1px 3px 1px rgba(60, 64, 67, 0.15);\n",
              "      fill: #174EA6;\n",
              "    }\n",
              "\n",
              "    [theme=dark] .colab-df-convert {\n",
              "      background-color: #3B4455;\n",
              "      fill: #D2E3FC;\n",
              "    }\n",
              "\n",
              "    [theme=dark] .colab-df-convert:hover {\n",
              "      background-color: #434B5C;\n",
              "      box-shadow: 0px 1px 3px 1px rgba(0, 0, 0, 0.15);\n",
              "      filter: drop-shadow(0px 1px 2px rgba(0, 0, 0, 0.3));\n",
              "      fill: #FFFFFF;\n",
              "    }\n",
              "  </style>\n",
              "\n",
              "      <script>\n",
              "        const buttonEl =\n",
              "          document.querySelector('#df-783759e7-5341-4c3e-8858-17995aa65f1d button.colab-df-convert');\n",
              "        buttonEl.style.display =\n",
              "          google.colab.kernel.accessAllowed ? 'block' : 'none';\n",
              "\n",
              "        async function convertToInteractive(key) {\n",
              "          const element = document.querySelector('#df-783759e7-5341-4c3e-8858-17995aa65f1d');\n",
              "          const dataTable =\n",
              "            await google.colab.kernel.invokeFunction('convertToInteractive',\n",
              "                                                     [key], {});\n",
              "          if (!dataTable) return;\n",
              "\n",
              "          const docLinkHtml = 'Like what you see? Visit the ' +\n",
              "            '<a target=\"_blank\" href=https://colab.research.google.com/notebooks/data_table.ipynb>data table notebook</a>'\n",
              "            + ' to learn more about interactive tables.';\n",
              "          element.innerHTML = '';\n",
              "          dataTable['output_type'] = 'display_data';\n",
              "          await google.colab.output.renderOutput(dataTable, element);\n",
              "          const docLink = document.createElement('div');\n",
              "          docLink.innerHTML = docLinkHtml;\n",
              "          element.appendChild(docLink);\n",
              "        }\n",
              "      </script>\n",
              "    </div>\n",
              "  </div>\n",
              "  "
            ]
          },
          "metadata": {},
          "execution_count": 205
        }
      ]
    },
    {
      "cell_type": "code",
      "source": [
        "websites[websites['DNS_QUERY_TIMES'].isnull()]"
      ],
      "metadata": {
        "colab": {
          "base_uri": "https://localhost:8080/",
          "height": 162
        },
        "id": "1ZoGdVNInu6K",
        "outputId": "ffc75ac9-ceaa-4802-e86b-55f16a7675e1"
      },
      "execution_count": 206,
      "outputs": [
        {
          "output_type": "execute_result",
          "data": {
            "text/plain": [
              "         URL  NUMBER_SPECIAL_CHARACTERS CHARSET  SERVER WHOIS_COUNTRY  \\\n",
              "1659  B0_772                         15   UTF-8  Apache            CA   \n",
              "\n",
              "     WHOIS_STATEPRO    WHOIS_REGDATE WHOIS_UPDATED_DATE  DIST_REMOTE_TCP_PORT  \\\n",
              "1659             ON  14/12/2009 0:00    13/12/2016 0:00                     2   \n",
              "\n",
              "      REMOTE_IPS  APP_BYTES  SOURCE_APP_BYTES  APP_PACKETS  DNS_QUERY_TIMES  \\\n",
              "1659           2        276               416            4              NaN   \n",
              "\n",
              "      Type  \n",
              "1659     0  "
            ],
            "text/html": [
              "\n",
              "  <div id=\"df-242f62a5-83aa-4005-8e3f-80500a440462\">\n",
              "    <div class=\"colab-df-container\">\n",
              "      <div>\n",
              "<style scoped>\n",
              "    .dataframe tbody tr th:only-of-type {\n",
              "        vertical-align: middle;\n",
              "    }\n",
              "\n",
              "    .dataframe tbody tr th {\n",
              "        vertical-align: top;\n",
              "    }\n",
              "\n",
              "    .dataframe thead th {\n",
              "        text-align: right;\n",
              "    }\n",
              "</style>\n",
              "<table border=\"1\" class=\"dataframe\">\n",
              "  <thead>\n",
              "    <tr style=\"text-align: right;\">\n",
              "      <th></th>\n",
              "      <th>URL</th>\n",
              "      <th>NUMBER_SPECIAL_CHARACTERS</th>\n",
              "      <th>CHARSET</th>\n",
              "      <th>SERVER</th>\n",
              "      <th>WHOIS_COUNTRY</th>\n",
              "      <th>WHOIS_STATEPRO</th>\n",
              "      <th>WHOIS_REGDATE</th>\n",
              "      <th>WHOIS_UPDATED_DATE</th>\n",
              "      <th>DIST_REMOTE_TCP_PORT</th>\n",
              "      <th>REMOTE_IPS</th>\n",
              "      <th>APP_BYTES</th>\n",
              "      <th>SOURCE_APP_BYTES</th>\n",
              "      <th>APP_PACKETS</th>\n",
              "      <th>DNS_QUERY_TIMES</th>\n",
              "      <th>Type</th>\n",
              "    </tr>\n",
              "  </thead>\n",
              "  <tbody>\n",
              "    <tr>\n",
              "      <th>1659</th>\n",
              "      <td>B0_772</td>\n",
              "      <td>15</td>\n",
              "      <td>UTF-8</td>\n",
              "      <td>Apache</td>\n",
              "      <td>CA</td>\n",
              "      <td>ON</td>\n",
              "      <td>14/12/2009 0:00</td>\n",
              "      <td>13/12/2016 0:00</td>\n",
              "      <td>2</td>\n",
              "      <td>2</td>\n",
              "      <td>276</td>\n",
              "      <td>416</td>\n",
              "      <td>4</td>\n",
              "      <td>NaN</td>\n",
              "      <td>0</td>\n",
              "    </tr>\n",
              "  </tbody>\n",
              "</table>\n",
              "</div>\n",
              "      <button class=\"colab-df-convert\" onclick=\"convertToInteractive('df-242f62a5-83aa-4005-8e3f-80500a440462')\"\n",
              "              title=\"Convert this dataframe to an interactive table.\"\n",
              "              style=\"display:none;\">\n",
              "        \n",
              "  <svg xmlns=\"http://www.w3.org/2000/svg\" height=\"24px\"viewBox=\"0 0 24 24\"\n",
              "       width=\"24px\">\n",
              "    <path d=\"M0 0h24v24H0V0z\" fill=\"none\"/>\n",
              "    <path d=\"M18.56 5.44l.94 2.06.94-2.06 2.06-.94-2.06-.94-.94-2.06-.94 2.06-2.06.94zm-11 1L8.5 8.5l.94-2.06 2.06-.94-2.06-.94L8.5 2.5l-.94 2.06-2.06.94zm10 10l.94 2.06.94-2.06 2.06-.94-2.06-.94-.94-2.06-.94 2.06-2.06.94z\"/><path d=\"M17.41 7.96l-1.37-1.37c-.4-.4-.92-.59-1.43-.59-.52 0-1.04.2-1.43.59L10.3 9.45l-7.72 7.72c-.78.78-.78 2.05 0 2.83L4 21.41c.39.39.9.59 1.41.59.51 0 1.02-.2 1.41-.59l7.78-7.78 2.81-2.81c.8-.78.8-2.07 0-2.86zM5.41 20L4 18.59l7.72-7.72 1.47 1.35L5.41 20z\"/>\n",
              "  </svg>\n",
              "      </button>\n",
              "      \n",
              "  <style>\n",
              "    .colab-df-container {\n",
              "      display:flex;\n",
              "      flex-wrap:wrap;\n",
              "      gap: 12px;\n",
              "    }\n",
              "\n",
              "    .colab-df-convert {\n",
              "      background-color: #E8F0FE;\n",
              "      border: none;\n",
              "      border-radius: 50%;\n",
              "      cursor: pointer;\n",
              "      display: none;\n",
              "      fill: #1967D2;\n",
              "      height: 32px;\n",
              "      padding: 0 0 0 0;\n",
              "      width: 32px;\n",
              "    }\n",
              "\n",
              "    .colab-df-convert:hover {\n",
              "      background-color: #E2EBFA;\n",
              "      box-shadow: 0px 1px 2px rgba(60, 64, 67, 0.3), 0px 1px 3px 1px rgba(60, 64, 67, 0.15);\n",
              "      fill: #174EA6;\n",
              "    }\n",
              "\n",
              "    [theme=dark] .colab-df-convert {\n",
              "      background-color: #3B4455;\n",
              "      fill: #D2E3FC;\n",
              "    }\n",
              "\n",
              "    [theme=dark] .colab-df-convert:hover {\n",
              "      background-color: #434B5C;\n",
              "      box-shadow: 0px 1px 3px 1px rgba(0, 0, 0, 0.15);\n",
              "      filter: drop-shadow(0px 1px 2px rgba(0, 0, 0, 0.3));\n",
              "      fill: #FFFFFF;\n",
              "    }\n",
              "  </style>\n",
              "\n",
              "      <script>\n",
              "        const buttonEl =\n",
              "          document.querySelector('#df-242f62a5-83aa-4005-8e3f-80500a440462 button.colab-df-convert');\n",
              "        buttonEl.style.display =\n",
              "          google.colab.kernel.accessAllowed ? 'block' : 'none';\n",
              "\n",
              "        async function convertToInteractive(key) {\n",
              "          const element = document.querySelector('#df-242f62a5-83aa-4005-8e3f-80500a440462');\n",
              "          const dataTable =\n",
              "            await google.colab.kernel.invokeFunction('convertToInteractive',\n",
              "                                                     [key], {});\n",
              "          if (!dataTable) return;\n",
              "\n",
              "          const docLinkHtml = 'Like what you see? Visit the ' +\n",
              "            '<a target=\"_blank\" href=https://colab.research.google.com/notebooks/data_table.ipynb>data table notebook</a>'\n",
              "            + ' to learn more about interactive tables.';\n",
              "          element.innerHTML = '';\n",
              "          dataTable['output_type'] = 'display_data';\n",
              "          await google.colab.output.renderOutput(dataTable, element);\n",
              "          const docLink = document.createElement('div');\n",
              "          docLink.innerHTML = docLinkHtml;\n",
              "          element.appendChild(docLink);\n",
              "        }\n",
              "      </script>\n",
              "    </div>\n",
              "  </div>\n",
              "  "
            ]
          },
          "metadata": {},
          "execution_count": 206
        }
      ]
    },
    {
      "cell_type": "code",
      "source": [
        "websites.drop([1306,1659], axis=0, inplace=True)"
      ],
      "metadata": {
        "id": "HAtex79CnsTp"
      },
      "execution_count": 207,
      "outputs": []
    },
    {
      "cell_type": "markdown",
      "metadata": {
        "id": "pXX7adAkmrCd"
      },
      "source": [
        "#### Again, examine the number of missing values in each column. \n",
        "\n",
        "If all cleaned, proceed. Otherwise, go back and do more cleaning."
      ]
    },
    {
      "cell_type": "code",
      "source": [
        "websites.isna().sum()"
      ],
      "metadata": {
        "colab": {
          "base_uri": "https://localhost:8080/"
        },
        "id": "QDUR93Pzn0pp",
        "outputId": "2629e0c1-3399-4b27-9184-1e1d68e39b57"
      },
      "execution_count": 208,
      "outputs": [
        {
          "output_type": "execute_result",
          "data": {
            "text/plain": [
              "URL                          0\n",
              "NUMBER_SPECIAL_CHARACTERS    0\n",
              "CHARSET                      0\n",
              "SERVER                       0\n",
              "WHOIS_COUNTRY                0\n",
              "WHOIS_STATEPRO               0\n",
              "WHOIS_REGDATE                0\n",
              "WHOIS_UPDATED_DATE           0\n",
              "DIST_REMOTE_TCP_PORT         0\n",
              "REMOTE_IPS                   0\n",
              "APP_BYTES                    0\n",
              "SOURCE_APP_BYTES             0\n",
              "APP_PACKETS                  0\n",
              "DNS_QUERY_TIMES              0\n",
              "Type                         0\n",
              "dtype: int64"
            ]
          },
          "metadata": {},
          "execution_count": 208
        }
      ]
    },
    {
      "cell_type": "markdown",
      "metadata": {
        "id": "T1ZsA2NvmrCe"
      },
      "source": [
        "# Challenge 4 - Handle `WHOIS_*` Categorical Data"
      ]
    },
    {
      "cell_type": "markdown",
      "metadata": {
        "id": "7ExknRZEmrCe"
      },
      "source": [
        "There are several categorical columns we need to handle. These columns are:\n",
        "\n",
        "* `URL`\n",
        "* `CHARSET`\n",
        "* `SERVER`\n",
        "* `WHOIS_COUNTRY`\n",
        "* `WHOIS_STATEPRO`\n",
        "* `WHOIS_REGDATE`\n",
        "* `WHOIS_UPDATED_DATE`\n",
        "\n",
        "How to handle string columns is always case by case. Let's start by working on `WHOIS_COUNTRY`. Your steps are:\n",
        "\n",
        "1. List out the unique values of `WHOIS_COUNTRY`.\n",
        "1. Consolidate the country values with consistent country codes. For example, the following values refer to the same country and should use consistent country code:\n",
        "    * `CY` and `Cyprus`\n",
        "    * `US` and `us`\n",
        "    * `SE` and `se`\n",
        "    * `GB`, `United Kingdom`, and `[u'GB'; u'UK']`\n",
        "\n",
        "#### In the cells below, fix the country values as intructed above."
      ]
    },
    {
      "cell_type": "code",
      "execution_count": 209,
      "metadata": {
        "id": "26mJkQuhmrCe",
        "colab": {
          "base_uri": "https://localhost:8080/"
        },
        "outputId": "bcddbd5c-24f3-4ec8-8e2f-c7a0a15931a7"
      },
      "outputs": [
        {
          "output_type": "execute_result",
          "data": {
            "text/plain": [
              "array(['None', 'US', 'SC', 'GB', 'UK', 'RU', 'AU', 'CA', 'PA', 'se', 'IN',\n",
              "       'LU', 'TH', \"[u'GB'; u'UK']\", 'FR', 'NL', 'UG', 'JP', 'CN', 'SE',\n",
              "       'SI', 'IL', 'ru', 'KY', 'AT', 'CZ', 'PH', 'BE', 'NO', 'TR', 'LV',\n",
              "       'DE', 'ES', 'BR', 'us', 'KR', 'HK', 'UA', 'CH', 'United Kingdom',\n",
              "       'BS', 'PK', 'IT', 'Cyprus', 'BY', 'AE', 'IE', 'UY', 'KG'],\n",
              "      dtype=object)"
            ]
          },
          "metadata": {},
          "execution_count": 209
        }
      ],
      "source": [
        "websites['WHOIS_COUNTRY'].unique()"
      ]
    },
    {
      "cell_type": "code",
      "source": [
        "websites['WHOIS_COUNTRY'] = websites['WHOIS_COUNTRY'].replace(['us'], 'US')"
      ],
      "metadata": {
        "id": "AOmmgHU7vQNE"
      },
      "execution_count": 210,
      "outputs": []
    },
    {
      "cell_type": "code",
      "source": [
        "websites['WHOIS_COUNTRY'] = websites['WHOIS_COUNTRY'].replace(['United Kingdom', '[u\\'GB\\'; u\\'UK\\']'], 'GB')"
      ],
      "metadata": {
        "id": "03bKTDGCvvAM"
      },
      "execution_count": 211,
      "outputs": []
    },
    {
      "cell_type": "code",
      "source": [
        "websites['WHOIS_COUNTRY'] = websites['WHOIS_COUNTRY'].replace(['se'], 'SE')"
      ],
      "metadata": {
        "id": "24mn25pCv-hM"
      },
      "execution_count": 212,
      "outputs": []
    },
    {
      "cell_type": "code",
      "source": [
        "websites['WHOIS_COUNTRY'] = websites['WHOIS_COUNTRY'].replace(['Cyprus'], 'CY')"
      ],
      "metadata": {
        "id": "9MturoKLwCNu"
      },
      "execution_count": 213,
      "outputs": []
    },
    {
      "cell_type": "code",
      "source": [
        "websites['WHOIS_COUNTRY'].unique()"
      ],
      "metadata": {
        "colab": {
          "base_uri": "https://localhost:8080/"
        },
        "id": "OStFrp6ZvyQz",
        "outputId": "3c4fa4a6-4550-4041-db1b-02720964c9b3"
      },
      "execution_count": 214,
      "outputs": [
        {
          "output_type": "execute_result",
          "data": {
            "text/plain": [
              "array(['None', 'US', 'SC', 'GB', 'UK', 'RU', 'AU', 'CA', 'PA', 'SE', 'IN',\n",
              "       'LU', 'TH', 'FR', 'NL', 'UG', 'JP', 'CN', 'SI', 'IL', 'ru', 'KY',\n",
              "       'AT', 'CZ', 'PH', 'BE', 'NO', 'TR', 'LV', 'DE', 'ES', 'BR', 'KR',\n",
              "       'HK', 'UA', 'CH', 'BS', 'PK', 'IT', 'CY', 'BY', 'AE', 'IE', 'UY',\n",
              "       'KG'], dtype=object)"
            ]
          },
          "metadata": {},
          "execution_count": 214
        }
      ]
    },
    {
      "cell_type": "markdown",
      "metadata": {
        "id": "Nwu5N8ZpmrCf"
      },
      "source": [
        "Since we have fixed the country values, can we convert this column to ordinal now?\n",
        "\n",
        "Not yet. If you reflect on the previous labs how we handle categorical columns, you probably remember we ended up dropping a lot of those columns because there are too many unique values. Too many unique values in a column is not desirable in machine learning because it makes prediction inaccurate. But there are workarounds under certain conditions. One of the fixable conditions is:\n",
        "\n",
        "#### If a limited number of values account for the majority of data, we can retain these top values and re-label all other rare values.\n",
        "\n",
        "The `WHOIS_COUNTRY` column happens to be this case. You can verify it by print a bar chart of the `value_counts` in the next cell to verify:"
      ]
    },
    {
      "cell_type": "code",
      "execution_count": 215,
      "metadata": {
        "id": "T_EffHb0mrCf",
        "colab": {
          "base_uri": "https://localhost:8080/"
        },
        "outputId": "e3f6bfe0-ba46-4f5c-c826-8fcc700b55af"
      },
      "outputs": [
        {
          "output_type": "execute_result",
          "data": {
            "text/plain": [
              "US      1105\n",
              "None     306\n",
              "CA        83\n",
              "ES        63\n",
              "AU        35\n",
              "GB        25\n",
              "PA        21\n",
              "JP        11\n",
              "IN        10\n",
              "UK        10\n",
              "CN        10\n",
              "CZ         9\n",
              "FR         9\n",
              "CH         6\n",
              "NL         6\n",
              "KR         5\n",
              "PH         4\n",
              "ru         4\n",
              "BS         4\n",
              "AT         4\n",
              "SE         4\n",
              "KY         3\n",
              "SC         3\n",
              "BE         3\n",
              "TR         3\n",
              "DE         3\n",
              "HK         3\n",
              "UY         2\n",
              "CY         2\n",
              "RU         2\n",
              "UA         2\n",
              "IL         2\n",
              "BR         2\n",
              "NO         2\n",
              "SI         2\n",
              "KG         2\n",
              "LU         1\n",
              "LV         1\n",
              "TH         1\n",
              "PK         1\n",
              "IT         1\n",
              "UG         1\n",
              "BY         1\n",
              "AE         1\n",
              "IE         1\n",
              "Name: WHOIS_COUNTRY, dtype: int64"
            ]
          },
          "metadata": {},
          "execution_count": 215
        }
      ],
      "source": [
        "websites['WHOIS_COUNTRY'].value_counts()"
      ]
    },
    {
      "cell_type": "markdown",
      "metadata": {
        "id": "057sLBeqmrCf"
      },
      "source": [
        "#### After verifying, now let's keep the top 10 values of the column and re-label other columns with `OTHER`."
      ]
    },
    {
      "cell_type": "code",
      "execution_count": 216,
      "metadata": {
        "scrolled": true,
        "id": "x-tTWvMpmrCf"
      },
      "outputs": [],
      "source": [
        "websites['WHOIS_COUNTRY'] = websites['WHOIS_COUNTRY'].replace(['SC', 'RU', 'SE', 'LU', 'TH', 'FR', 'NL', 'UG', 'SI', 'IL', 'ru', 'KY', 'AT', 'CZ', 'PH', 'BE', \n",
        "                                                               'NO', 'TR','LV', 'DE', 'BR', 'KR', 'HK', 'UA', 'CH', 'BS', 'PK', 'IT', 'CY', \n",
        "                                                               'BY', 'AE', 'IE', 'UY', 'KG'], 'OTHER')"
      ]
    },
    {
      "cell_type": "code",
      "source": [
        "websites['WHOIS_COUNTRY'].value_counts()"
      ],
      "metadata": {
        "colab": {
          "base_uri": "https://localhost:8080/"
        },
        "id": "WhmTMpyvx_uk",
        "outputId": "1784ccd4-0839-41cc-9272-e430101f47f1"
      },
      "execution_count": 217,
      "outputs": [
        {
          "output_type": "execute_result",
          "data": {
            "text/plain": [
              "US       1105\n",
              "None      306\n",
              "OTHER     100\n",
              "CA         83\n",
              "ES         63\n",
              "AU         35\n",
              "GB         25\n",
              "PA         21\n",
              "JP         11\n",
              "UK         10\n",
              "IN         10\n",
              "CN         10\n",
              "Name: WHOIS_COUNTRY, dtype: int64"
            ]
          },
          "metadata": {},
          "execution_count": 217
        }
      ]
    },
    {
      "cell_type": "markdown",
      "metadata": {
        "id": "cQCtd36ymrCf"
      },
      "source": [
        "Now since `WHOIS_COUNTRY` has been re-labelled, we don't need `WHOIS_STATEPRO` any more because the values of the states or provinces may not be relevant any more. We'll drop this column.\n",
        "\n",
        "In addition, we will also drop `WHOIS_REGDATE` and `WHOIS_UPDATED_DATE`. These are the registration and update dates of the website domains. Not of our concerns.\n",
        "\n",
        "#### In the next cell, drop `['WHOIS_STATEPRO', 'WHOIS_REGDATE', 'WHOIS_UPDATED_DATE']`."
      ]
    },
    {
      "cell_type": "code",
      "execution_count": 218,
      "metadata": {
        "id": "qcmc25oLmrCg",
        "colab": {
          "base_uri": "https://localhost:8080/",
          "height": 322
        },
        "outputId": "b92bfb5a-1cb3-492f-b594-cec12a685dff"
      },
      "outputs": [
        {
          "output_type": "execute_result",
          "data": {
            "text/plain": [
              "       URL  NUMBER_SPECIAL_CHARACTERS     CHARSET                 SERVER  \\\n",
              "0   M0_109                          7  iso-8859-1                  nginx   \n",
              "1  B0_2314                          6       UTF-8          Apache/2.4.10   \n",
              "2   B0_911                          6    us-ascii  Microsoft-HTTPAPI/2.0   \n",
              "3   B0_113                          6  ISO-8859-1                  nginx   \n",
              "4   B0_403                          6       UTF-8                   None   \n",
              "\n",
              "  WHOIS_COUNTRY  DIST_REMOTE_TCP_PORT  REMOTE_IPS  APP_BYTES  \\\n",
              "0          None                     0           2        700   \n",
              "1          None                     7           4       1230   \n",
              "2          None                     0           0          0   \n",
              "3            US                    22           3       3812   \n",
              "4            US                     2           5       4278   \n",
              "\n",
              "   SOURCE_APP_BYTES  APP_PACKETS  DNS_QUERY_TIMES  Type  \n",
              "0              1153            9              2.0     1  \n",
              "1              1265           17              0.0     0  \n",
              "2                 0            0              0.0     0  \n",
              "3             18784           39              8.0     0  \n",
              "4            129889           61              4.0     0  "
            ],
            "text/html": [
              "\n",
              "  <div id=\"df-612ec15a-0e29-45db-8a77-15811f18ac89\">\n",
              "    <div class=\"colab-df-container\">\n",
              "      <div>\n",
              "<style scoped>\n",
              "    .dataframe tbody tr th:only-of-type {\n",
              "        vertical-align: middle;\n",
              "    }\n",
              "\n",
              "    .dataframe tbody tr th {\n",
              "        vertical-align: top;\n",
              "    }\n",
              "\n",
              "    .dataframe thead th {\n",
              "        text-align: right;\n",
              "    }\n",
              "</style>\n",
              "<table border=\"1\" class=\"dataframe\">\n",
              "  <thead>\n",
              "    <tr style=\"text-align: right;\">\n",
              "      <th></th>\n",
              "      <th>URL</th>\n",
              "      <th>NUMBER_SPECIAL_CHARACTERS</th>\n",
              "      <th>CHARSET</th>\n",
              "      <th>SERVER</th>\n",
              "      <th>WHOIS_COUNTRY</th>\n",
              "      <th>DIST_REMOTE_TCP_PORT</th>\n",
              "      <th>REMOTE_IPS</th>\n",
              "      <th>APP_BYTES</th>\n",
              "      <th>SOURCE_APP_BYTES</th>\n",
              "      <th>APP_PACKETS</th>\n",
              "      <th>DNS_QUERY_TIMES</th>\n",
              "      <th>Type</th>\n",
              "    </tr>\n",
              "  </thead>\n",
              "  <tbody>\n",
              "    <tr>\n",
              "      <th>0</th>\n",
              "      <td>M0_109</td>\n",
              "      <td>7</td>\n",
              "      <td>iso-8859-1</td>\n",
              "      <td>nginx</td>\n",
              "      <td>None</td>\n",
              "      <td>0</td>\n",
              "      <td>2</td>\n",
              "      <td>700</td>\n",
              "      <td>1153</td>\n",
              "      <td>9</td>\n",
              "      <td>2.0</td>\n",
              "      <td>1</td>\n",
              "    </tr>\n",
              "    <tr>\n",
              "      <th>1</th>\n",
              "      <td>B0_2314</td>\n",
              "      <td>6</td>\n",
              "      <td>UTF-8</td>\n",
              "      <td>Apache/2.4.10</td>\n",
              "      <td>None</td>\n",
              "      <td>7</td>\n",
              "      <td>4</td>\n",
              "      <td>1230</td>\n",
              "      <td>1265</td>\n",
              "      <td>17</td>\n",
              "      <td>0.0</td>\n",
              "      <td>0</td>\n",
              "    </tr>\n",
              "    <tr>\n",
              "      <th>2</th>\n",
              "      <td>B0_911</td>\n",
              "      <td>6</td>\n",
              "      <td>us-ascii</td>\n",
              "      <td>Microsoft-HTTPAPI/2.0</td>\n",
              "      <td>None</td>\n",
              "      <td>0</td>\n",
              "      <td>0</td>\n",
              "      <td>0</td>\n",
              "      <td>0</td>\n",
              "      <td>0</td>\n",
              "      <td>0.0</td>\n",
              "      <td>0</td>\n",
              "    </tr>\n",
              "    <tr>\n",
              "      <th>3</th>\n",
              "      <td>B0_113</td>\n",
              "      <td>6</td>\n",
              "      <td>ISO-8859-1</td>\n",
              "      <td>nginx</td>\n",
              "      <td>US</td>\n",
              "      <td>22</td>\n",
              "      <td>3</td>\n",
              "      <td>3812</td>\n",
              "      <td>18784</td>\n",
              "      <td>39</td>\n",
              "      <td>8.0</td>\n",
              "      <td>0</td>\n",
              "    </tr>\n",
              "    <tr>\n",
              "      <th>4</th>\n",
              "      <td>B0_403</td>\n",
              "      <td>6</td>\n",
              "      <td>UTF-8</td>\n",
              "      <td>None</td>\n",
              "      <td>US</td>\n",
              "      <td>2</td>\n",
              "      <td>5</td>\n",
              "      <td>4278</td>\n",
              "      <td>129889</td>\n",
              "      <td>61</td>\n",
              "      <td>4.0</td>\n",
              "      <td>0</td>\n",
              "    </tr>\n",
              "  </tbody>\n",
              "</table>\n",
              "</div>\n",
              "      <button class=\"colab-df-convert\" onclick=\"convertToInteractive('df-612ec15a-0e29-45db-8a77-15811f18ac89')\"\n",
              "              title=\"Convert this dataframe to an interactive table.\"\n",
              "              style=\"display:none;\">\n",
              "        \n",
              "  <svg xmlns=\"http://www.w3.org/2000/svg\" height=\"24px\"viewBox=\"0 0 24 24\"\n",
              "       width=\"24px\">\n",
              "    <path d=\"M0 0h24v24H0V0z\" fill=\"none\"/>\n",
              "    <path d=\"M18.56 5.44l.94 2.06.94-2.06 2.06-.94-2.06-.94-.94-2.06-.94 2.06-2.06.94zm-11 1L8.5 8.5l.94-2.06 2.06-.94-2.06-.94L8.5 2.5l-.94 2.06-2.06.94zm10 10l.94 2.06.94-2.06 2.06-.94-2.06-.94-.94-2.06-.94 2.06-2.06.94z\"/><path d=\"M17.41 7.96l-1.37-1.37c-.4-.4-.92-.59-1.43-.59-.52 0-1.04.2-1.43.59L10.3 9.45l-7.72 7.72c-.78.78-.78 2.05 0 2.83L4 21.41c.39.39.9.59 1.41.59.51 0 1.02-.2 1.41-.59l7.78-7.78 2.81-2.81c.8-.78.8-2.07 0-2.86zM5.41 20L4 18.59l7.72-7.72 1.47 1.35L5.41 20z\"/>\n",
              "  </svg>\n",
              "      </button>\n",
              "      \n",
              "  <style>\n",
              "    .colab-df-container {\n",
              "      display:flex;\n",
              "      flex-wrap:wrap;\n",
              "      gap: 12px;\n",
              "    }\n",
              "\n",
              "    .colab-df-convert {\n",
              "      background-color: #E8F0FE;\n",
              "      border: none;\n",
              "      border-radius: 50%;\n",
              "      cursor: pointer;\n",
              "      display: none;\n",
              "      fill: #1967D2;\n",
              "      height: 32px;\n",
              "      padding: 0 0 0 0;\n",
              "      width: 32px;\n",
              "    }\n",
              "\n",
              "    .colab-df-convert:hover {\n",
              "      background-color: #E2EBFA;\n",
              "      box-shadow: 0px 1px 2px rgba(60, 64, 67, 0.3), 0px 1px 3px 1px rgba(60, 64, 67, 0.15);\n",
              "      fill: #174EA6;\n",
              "    }\n",
              "\n",
              "    [theme=dark] .colab-df-convert {\n",
              "      background-color: #3B4455;\n",
              "      fill: #D2E3FC;\n",
              "    }\n",
              "\n",
              "    [theme=dark] .colab-df-convert:hover {\n",
              "      background-color: #434B5C;\n",
              "      box-shadow: 0px 1px 3px 1px rgba(0, 0, 0, 0.15);\n",
              "      filter: drop-shadow(0px 1px 2px rgba(0, 0, 0, 0.3));\n",
              "      fill: #FFFFFF;\n",
              "    }\n",
              "  </style>\n",
              "\n",
              "      <script>\n",
              "        const buttonEl =\n",
              "          document.querySelector('#df-612ec15a-0e29-45db-8a77-15811f18ac89 button.colab-df-convert');\n",
              "        buttonEl.style.display =\n",
              "          google.colab.kernel.accessAllowed ? 'block' : 'none';\n",
              "\n",
              "        async function convertToInteractive(key) {\n",
              "          const element = document.querySelector('#df-612ec15a-0e29-45db-8a77-15811f18ac89');\n",
              "          const dataTable =\n",
              "            await google.colab.kernel.invokeFunction('convertToInteractive',\n",
              "                                                     [key], {});\n",
              "          if (!dataTable) return;\n",
              "\n",
              "          const docLinkHtml = 'Like what you see? Visit the ' +\n",
              "            '<a target=\"_blank\" href=https://colab.research.google.com/notebooks/data_table.ipynb>data table notebook</a>'\n",
              "            + ' to learn more about interactive tables.';\n",
              "          element.innerHTML = '';\n",
              "          dataTable['output_type'] = 'display_data';\n",
              "          await google.colab.output.renderOutput(dataTable, element);\n",
              "          const docLink = document.createElement('div');\n",
              "          docLink.innerHTML = docLinkHtml;\n",
              "          element.appendChild(docLink);\n",
              "        }\n",
              "      </script>\n",
              "    </div>\n",
              "  </div>\n",
              "  "
            ]
          },
          "metadata": {},
          "execution_count": 218
        }
      ],
      "source": [
        "websites.drop(columns=['WHOIS_STATEPRO', 'WHOIS_REGDATE', 'WHOIS_UPDATED_DATE'], axis=1, inplace = True)\n",
        "websites.head()"
      ]
    },
    {
      "cell_type": "markdown",
      "metadata": {
        "id": "d0ds8wjrmrCg"
      },
      "source": [
        "# Challenge 5 - Handle Remaining Categorical Data & Convert to Ordinal\n",
        "\n",
        "Now print the `dtypes` of the data again. Besides `WHOIS_COUNTRY` which we already fixed, there should be 3 categorical columns left: `URL`, `CHARSET`, and `SERVER`."
      ]
    },
    {
      "cell_type": "code",
      "execution_count": 219,
      "metadata": {
        "id": "GeSPe5ZZmrCg",
        "colab": {
          "base_uri": "https://localhost:8080/"
        },
        "outputId": "7f69fe57-50fa-4557-865a-bf97c9dfc69b"
      },
      "outputs": [
        {
          "output_type": "execute_result",
          "data": {
            "text/plain": [
              "URL                           object\n",
              "NUMBER_SPECIAL_CHARACTERS      int64\n",
              "CHARSET                       object\n",
              "SERVER                        object\n",
              "WHOIS_COUNTRY                 object\n",
              "DIST_REMOTE_TCP_PORT           int64\n",
              "REMOTE_IPS                     int64\n",
              "APP_BYTES                      int64\n",
              "SOURCE_APP_BYTES               int64\n",
              "APP_PACKETS                    int64\n",
              "DNS_QUERY_TIMES              float64\n",
              "Type                           int64\n",
              "dtype: object"
            ]
          },
          "metadata": {},
          "execution_count": 219
        }
      ],
      "source": [
        "websites.dtypes"
      ]
    },
    {
      "cell_type": "markdown",
      "metadata": {
        "id": "dEN-ycikmrCg"
      },
      "source": [
        "#### `URL` is easy. We'll simply drop it because it has too many unique values that there's no way for us to consolidate."
      ]
    },
    {
      "cell_type": "code",
      "execution_count": 220,
      "metadata": {
        "id": "tS1HuTtZmrCg"
      },
      "outputs": [],
      "source": [
        "websites.drop(columns=['URL'], axis=1, inplace = True)"
      ]
    },
    {
      "cell_type": "markdown",
      "metadata": {
        "id": "YiQi3OP3mrCg"
      },
      "source": [
        "#### Print the unique value counts of `CHARSET`. You see there are only a few unique values. So we can keep it as it is."
      ]
    },
    {
      "cell_type": "code",
      "execution_count": 221,
      "metadata": {
        "id": "wjlc6V_vmrCh",
        "colab": {
          "base_uri": "https://localhost:8080/"
        },
        "outputId": "3a5738cd-afeb-4808-de8f-b10eabc33096"
      },
      "outputs": [
        {
          "output_type": "execute_result",
          "data": {
            "text/plain": [
              "UTF-8           674\n",
              "ISO-8859-1      427\n",
              "utf-8           379\n",
              "us-ascii        155\n",
              "iso-8859-1      134\n",
              "None              7\n",
              "windows-1251      1\n",
              "ISO-8859          1\n",
              "windows-1252      1\n",
              "Name: CHARSET, dtype: int64"
            ]
          },
          "metadata": {},
          "execution_count": 221
        }
      ],
      "source": [
        "websites['CHARSET'].value_counts()"
      ]
    },
    {
      "cell_type": "code",
      "source": [
        "websites['CHARSET'] = websites['CHARSET'].replace(['utf-8'], 'UTF-8')\n",
        "websites['CHARSET'] = websites['CHARSET'].replace(['iso-8859-1'], 'ISO-8859-1')"
      ],
      "metadata": {
        "id": "JeDEXCwJziE-"
      },
      "execution_count": 222,
      "outputs": []
    },
    {
      "cell_type": "code",
      "source": [
        "websites['CHARSET'] = websites['CHARSET'].replace(['windows-1251','ISO-8859','windows-1252'], 'OTHER')"
      ],
      "metadata": {
        "id": "Llq9QDjtz_Fs"
      },
      "execution_count": 223,
      "outputs": []
    },
    {
      "cell_type": "code",
      "source": [
        "websites['CHARSET'].value_counts()"
      ],
      "metadata": {
        "colab": {
          "base_uri": "https://localhost:8080/"
        },
        "id": "ZazLRAARz5kl",
        "outputId": "6f0900c5-b7f0-4d37-b94b-65cd9533043c"
      },
      "execution_count": 224,
      "outputs": [
        {
          "output_type": "execute_result",
          "data": {
            "text/plain": [
              "UTF-8         1053\n",
              "ISO-8859-1     561\n",
              "us-ascii       155\n",
              "None             7\n",
              "OTHER            3\n",
              "Name: CHARSET, dtype: int64"
            ]
          },
          "metadata": {},
          "execution_count": 224
        }
      ]
    },
    {
      "cell_type": "markdown",
      "metadata": {
        "id": "jTB80WtUmrCh"
      },
      "source": [
        "`SERVER` is a little more complicated. Print its unique values and think about how you can consolidate those values.\n",
        "\n",
        "#### Before you think of your own solution, don't read the instructions that come next."
      ]
    },
    {
      "cell_type": "code",
      "source": [
        "pd.set_option(\"display.max_rows\", None)"
      ],
      "metadata": {
        "id": "kz6G1qxQ0W_1"
      },
      "execution_count": 225,
      "outputs": []
    },
    {
      "cell_type": "code",
      "execution_count": 226,
      "metadata": {
        "id": "f48NS3uqmrCh",
        "colab": {
          "base_uri": "https://localhost:8080/"
        },
        "outputId": "24e7de0f-1da6-4ec1-c609-8f35e72d76c1"
      },
      "outputs": [
        {
          "output_type": "execute_result",
          "data": {
            "text/plain": [
              "Apache                                                                                                                                                                         385\n",
              "nginx                                                                                                                                                                          211\n",
              "None                                                                                                                                                                           175\n",
              "Microsoft-HTTPAPI/2.0                                                                                                                                                          113\n",
              "cloudflare-nginx                                                                                                                                                                94\n",
              "Microsoft-IIS/7.5                                                                                                                                                               51\n",
              "Server                                                                                                                                                                          49\n",
              "GSE                                                                                                                                                                             49\n",
              "YouTubeFrontEnd                                                                                                                                                                 42\n",
              "nginx/1.12.0                                                                                                                                                                    36\n",
              "ATS                                                                                                                                                                             30\n",
              "Apache/2.2.15 (CentOS)                                                                                                                                                          25\n",
              "Apache-Coyote/1.1                                                                                                                                                               20\n",
              "Microsoft-IIS/8.5                                                                                                                                                               15\n",
              "Apache/2                                                                                                                                                                        15\n",
              "Microsoft-IIS/6.0                                                                                                                                                               14\n",
              "Apache/2.2.14 (FreeBSD) mod_ssl/2.2.14 OpenSSL/0.9.8y DAV/2 PHP/5.2.12 with Suhosin-Patch                                                                                       13\n",
              "Apache/2.4.7 (Ubuntu)                                                                                                                                                           13\n",
              "Apache/2.2.22 (Debian)                                                                                                                                                          12\n",
              "Apache/2.2.15 (Red Hat)                                                                                                                                                         12\n",
              "nginx/1.4.6 (Ubuntu)                                                                                                                                                             9\n",
              "nginx/1.8.1                                                                                                                                                                      9\n",
              "nginx/1.8.0                                                                                                                                                                      8\n",
              "nginx/1.10.1                                                                                                                                                                     8\n",
              "Apache/2.4.25 (Amazon) OpenSSL/1.0.1k-fips                                                                                                                                       7\n",
              "Varnish                                                                                                                                                                          7\n",
              "Apache/2.4.25                                                                                                                                                                    6\n",
              "Apache/2.2.31 (Amazon)                                                                                                                                                           6\n",
              "LiteSpeed                                                                                                                                                                        6\n",
              "nginx/1.6.2                                                                                                                                                                      6\n",
              "nginx/1.1.19                                                                                                                                                                     5\n",
              "Apache/2.2.22                                                                                                                                                                    5\n",
              "nginx/1.10.1 + Phusion Passenger 5.0.30                                                                                                                                          5\n",
              "nginx/1.10.3                                                                                                                                                                     5\n",
              "Apache/2.4.23 (Unix) OpenSSL/1.0.1e-fips mod_bwlimited/1.4                                                                                                                       5\n",
              "nginx/1.2.1                                                                                                                                                                      5\n",
              "Apache/2.4.6 (CentOS) OpenSSL/1.0.1e-fips PHP/5.5.38                                                                                                                             4\n",
              "Apache/2.2.29 (Unix) mod_ssl/2.2.29 OpenSSL/1.0.1e-fips mod_bwlimited/1.4                                                                                                        4\n",
              "Jetty(9.0.z-SNAPSHOT)                                                                                                                                                            4\n",
              "Apache/2.4.18 (Ubuntu)                                                                                                                                                           4\n",
              "AmazonS3                                                                                                                                                                         4\n",
              "nginx + Phusion Passenger                                                                                                                                                        4\n",
              "Apache/2.2.32                                                                                                                                                                    4\n",
              "mw2239.codfw.wmnet                                                                                                                                                               4\n",
              "Apache/2.0.52 (Red Hat)                                                                                                                                                          4\n",
              "nginx/1.11.10                                                                                                                                                                    4\n",
              "openresty                                                                                                                                                                        4\n",
              "ebay server                                                                                                                                                                      4\n",
              "mw2165.codfw.wmnet                                                                                                                                                               4\n",
              "DOSarrest                                                                                                                                                                        3\n",
              "Apache/2.4.6 (CentOS)                                                                                                                                                            3\n",
              "nginx/1.11.3                                                                                                                                                                     3\n",
              "Apache/2.2.31 (CentOS)                                                                                                                                                           3\n",
              "openresty/1.11.2.1                                                                                                                                                               3\n",
              "Microsoft-IIS/7.0                                                                                                                                                                3\n",
              "Apache/2.4                                                                                                                                                                       3\n",
              "Apache/2.2.3 (CentOS)                                                                                                                                                            3\n",
              "mw2228.codfw.wmnet                                                                                                                                                               3\n",
              "Apache/2.2.27 (CentOS)                                                                                                                                                           3\n",
              "Apache/2.2.22 (Ubuntu)                                                                                                                                                           3\n",
              "Pizza/pepperoni                                                                                                                                                                  3\n",
              "Apache/2.2.15 (CentOS) DAV/2 mod_ssl/2.2.15 OpenSSL/1.0.1e-fips PHP/5.3.3                                                                                                        3\n",
              "nginx/1.13.0                                                                                                                                                                     2\n",
              "Squeegit/1.2.5 (3_sir)                                                                                                                                                           2\n",
              "nginx/1.6.3 + Phusion Passenger                                                                                                                                                  2\n",
              "nginx/1.11.2                                                                                                                                                                     2\n",
              "mw2224.codfw.wmnet                                                                                                                                                               2\n",
              "DMS/1.0.42                                                                                                                                                                       2\n",
              "Roxen/5.4.98-r2                                                                                                                                                                  2\n",
              "nginx/1.9.13                                                                                                                                                                     2\n",
              "mw2192.codfw.wmnet                                                                                                                                                               2\n",
              "nginx/1.10.0                                                                                                                                                                     2\n",
              "Apache/2.2.26 (Unix) mod_ssl/2.2.26 OpenSSL/0.9.8e-fips-rhel5 mod_bwlimited/1.4 PHP/5.4.26                                                                                       2\n",
              "Pagely Gateway/1.5.1                                                                                                                                                             2\n",
              "squid/3.3.8                                                                                                                                                                      2\n",
              "Apache/2.4.6                                                                                                                                                                     2\n",
              "mw2101.codfw.wmnet                                                                                                                                                               2\n",
              "AkamaiGHost                                                                                                                                                                      2\n",
              "mw2230.codfw.wmnet                                                                                                                                                               2\n",
              "mw2164.codfw.wmnet                                                                                                                                                               2\n",
              "Apache/2.4.6 (CentOS) OpenSSL/1.0.1e-fips PHP/5.4.16                                                                                                                             2\n",
              "mw2255.codfw.wmnet                                                                                                                                                               2\n",
              "mw2175.codfw.wmnet                                                                                                                                                               2\n",
              "Apache/2.2.31 (Unix) mod_ssl/2.2.31 OpenSSL/1.0.1e-fips mod_bwlimited/1.4 mod_fcgid/2.3.9                                                                                        2\n",
              "mw2242.codfw.wmnet                                                                                                                                                               2\n",
              "Apache/2.4.10 (Debian)                                                                                                                                                           2\n",
              "ATS/5.3.0                                                                                                                                                                        2\n",
              "Apache/2.4.25 (cPanel) OpenSSL/1.0.1e-fips mod_bwlimited/1.4                                                                                                                     2\n",
              "tsa_c                                                                                                                                                                            2\n",
              "HTTPDaemon                                                                                                                                                                       2\n",
              "Apache/2.2.29 (Amazon)                                                                                                                                                           2\n",
              "Sucuri/Cloudproxy                                                                                                                                                                2\n",
              "Oracle-iPlanet-Web-Server/7.0                                                                                                                                                    2\n",
              "Apache/2.4.12 (Unix) OpenSSL/1.0.1e-fips mod_bwlimited/1.4                                                                                                                       2\n",
              "Apache/2.2.13 (Unix) mod_ssl/2.2.13 OpenSSL/0.9.8e-fips-rhel5 mod_auth_passthrough/2.1 mod_bwlimited/1.4 PHP/5.2.10                                                              2\n",
              "Pepyaka/1.11.3                                                                                                                                                                   2\n",
              "Apache/2.2.29 (Unix) mod_ssl/2.2.29 OpenSSL/1.0.1e-fips mod_bwlimited/1.4 PHP/5.4.35                                                                                             2\n",
              "Apache/2.4.25 (Unix) OpenSSL/1.0.1e-fips mod_bwlimited/1.4                                                                                                                       1\n",
              "Apache/2.2.21 (Unix) mod_ssl/2.2.21 OpenSSL/0.9.8e-fips-rhel5 PHP/5.3.10                                                                                                         1\n",
              "mw2198.codfw.wmnet                                                                                                                                                               1\n",
              "mw2172.codfw.wmnet                                                                                                                                                               1\n",
              "Tengine                                                                                                                                                                          1\n",
              "nginx/1.2.6                                                                                                                                                                      1\n",
              "Apache/2.4.6 (Unix) mod_jk/1.2.37                                                                                                                                                1\n",
              ".V01 Apache                                                                                                                                                                      1\n",
              "mw2110.codfw.wmnet                                                                                                                                                               1\n",
              "Cowboy                                                                                                                                                                           1\n",
              "mw2113.codfw.wmnet                                                                                                                                                               1\n",
              "Apache/2.2.14 (Unix) mod_ssl/2.2.14 OpenSSL/0.9.8a                                                                                                                               1\n",
              "Apache/2.4.10 (Ubuntu)                                                                                                                                                           1\n",
              "Zope/(2.13.16; python 2.6.8; linux2) ZServer/1.1                                                                                                                                 1\n",
              "Nginx (OpenBSD)                                                                                                                                                                  1\n",
              "nginx/1.4.4                                                                                                                                                                      1\n",
              "Apache/2.4.6 (CentOS) OpenSSL/1.0.1e-fips PHP/7.0.14                                                                                                                             1\n",
              "Apache/2.2.0 (Fedora)                                                                                                                                                            1\n",
              "Apache/2.4.6 (Red Hat Enterprise Linux) OpenSSL/1.0.1e-fips mod_fcgid/2.3.9 Communique/4.2.0                                                                                     1\n",
              "mw2173.codfw.wmnet                                                                                                                                                               1\n",
              "Apache/2.4.10 (Debian) PHP/5.6.30-0+deb8u1 mod_perl/2.0.9dev Perl/v5.20.2                                                                                                        1\n",
              "Apache/2.4.25 (Amazon) PHP/7.0.14                                                                                                                                                1\n",
              "mw2257.codfw.wmnet                                                                                                                                                               1\n",
              "Aeria Games & Entertainment                                                                                                                                                      1\n",
              "Apache/1.3.42 Ben-SSL/1.60 (Unix) mod_gzip/1.3.26.1a mod_fastcgi/2.4.6 mod_throttle/3.1.2 Chili!Soft-ASP/3.6.2 FrontPage/5.0.2.2635 mod_perl/1.31 PHP/4.4.9                      1\n",
              "Apache/2.4.23 (Unix) OpenSSL/0.9.8e-fips-rhel5 mod_bwlimited/1.4                                                                                                                 1\n",
              "mw2106.codfw.wmnet                                                                                                                                                               1\n",
              "Apache/2.2.27 (Unix) OpenAM Web Agent/4.0.1-1 mod_ssl/2.2.27 OpenSSL/1.0.1p PHP/5.3.28                                                                                           1\n",
              "mw2187.codfw.wmnet                                                                                                                                                               1\n",
              "mw2176.codfw.wmnet                                                                                                                                                               1\n",
              "mw2104.codfw.wmnet                                                                                                                                                               1\n",
              "Apache/2.4.6 (Unix) mod_jk/1.2.37 PHP/5.5.1 OpenSSL/1.0.1g mod_fcgid/2.3.9                                                                                                       1\n",
              "mw2171.codfw.wmnet                                                                                                                                                               1\n",
              "SSWS                                                                                                                                                                             1\n",
              "mw2226.codfw.wmnet                                                                                                                                                               1\n",
              "Apache/2.2.10 (Linux/SUSE)                                                                                                                                                       1\n",
              "MI                                                                                                                                                                               1\n",
              "Heptu web server                                                                                                                                                                 1\n",
              "Apache/2.2.31 (Unix) mod_ssl/2.2.31 OpenSSL/1.0.1e-fips mod_bwlimited/1.4                                                                                                        1\n",
              "mw2180.codfw.wmnet                                                                                                                                                               1\n",
              "Apache/2.2.14 (Ubuntu)                                                                                                                                                           1\n",
              "nginx/0.8.55                                                                                                                                                                     1\n",
              "nginx/1.7.12                                                                                                                                                                     1\n",
              "nginx/1.6.3                                                                                                                                                                      1\n",
              "Apache/2.0.63 (Unix) mod_ssl/2.0.63 OpenSSL/0.9.8e-fips-rhel5 mod_auth_passthrough/2.1 mod_bwlimited/1.4 PHP/5.3.6                                                               1\n",
              "Boston.com Frontend                                                                                                                                                              1\n",
              "My Arse                                                                                                                                                                          1\n",
              "IdeaWebServer/v0.80                                                                                                                                                              1\n",
              "Apache/2.4.17 (Unix) OpenSSL/1.0.1e-fips PHP/5.6.19                                                                                                                              1\n",
              "Microsoft-IIS/7.5; litigation_essentials.lexisnexis.com  9999                                                                                                                    1\n",
              "XXXXXXXXXXXXXXXXXXXXXX                                                                                                                                                           1\n",
              "mw2238.codfw.wmnet                                                                                                                                                               1\n",
              "nginx/0.8.38                                                                                                                                                                     1\n",
              "www.lexisnexis.com  9999                                                                                                                                                         1\n",
              "Apache/2.4.16 (Ubuntu)                                                                                                                                                           1\n",
              "Apache/2.2.22 (Debian) mod_python/3.3.1 Python/2.7.3 mod_ssl/2.2.22 OpenSSL/1.0.1t                                                                                               1\n",
              "nginx/1.7.4                                                                                                                                                                      1\n",
              "294                                                                                                                                                                              1\n",
              "mw2178.codfw.wmnet                                                                                                                                                               1\n",
              "Apache/2.2.24 (Unix) DAV/2 PHP/5.3.26 mod_ssl/2.2.24 OpenSSL/0.9.8y                                                                                                              1\n",
              "Apache/2.2.26 (Unix) mod_ssl/2.2.26 OpenSSL/1.0.1e-fips DAV/2 mod_bwlimited/1.4                                                                                                  1\n",
              "Apache/2.2.31 (FreeBSD) PHP/5.4.15 mod_ssl/2.2.31 OpenSSL/1.0.2d DAV/2                                                                                                           1\n",
              "mw2197.codfw.wmnet                                                                                                                                                               1\n",
              "lighttpd/1.4.28                                                                                                                                                                  1\n",
              "mw2177.codfw.wmnet                                                                                                                                                               1\n",
              "Apache/2.4.18 (Unix) OpenSSL/0.9.8e-fips-rhel5 mod_bwlimited/1.4                                                                                                                 1\n",
              "Application-Server                                                                                                                                                               1\n",
              "Apache/2.4.6 (CentOS) mod_fcgid/2.3.9 PHP/5.6.30                                                                                                                                 1\n",
              "nginx/0.8.35                                                                                                                                                                     1\n",
              "mw2182.codfw.wmnet                                                                                                                                                               1\n",
              "barista/5.1.3                                                                                                                                                                    1\n",
              "mw2109.codfw.wmnet                                                                                                                                                               1\n",
              "nginx/0.8.54                                                                                                                                                                     1\n",
              "Apache/2.4.23 (Unix)                                                                                                                                                             1\n",
              "mw2225.codfw.wmnet                                                                                                                                                               1\n",
              "Apache/1.3.27 (Unix) PHP/4.4.1                                                                                                                                                   1\n",
              "mw2236.codfw.wmnet                                                                                                                                                               1\n",
              "mw2232.codfw.wmnet                                                                                                                                                               1\n",
              "Resin/3.1.8                                                                                                                                                                      1\n",
              "MediaFire                                                                                                                                                                        1\n",
              "Apache/2.4.10                                                                                                                                                                    1\n",
              "Apache/2.4.12 (Ubuntu)                                                                                                                                                           1\n",
              "Apache/1.3.34 (Unix) PHP/4.4.4                                                                                                                                                   1\n",
              "mw2107.codfw.wmnet                                                                                                                                                               1\n",
              "mw2190.codfw.wmnet                                                                                                                                                               1\n",
              "Apache/2.2.31 (Unix) mod_ssl/2.2.31 OpenSSL/1.0.1e-fips mod_bwlimited/1.4 mod_perl/2.0.8 Perl/v5.10.1                                                                            1\n",
              "openresty/1.11.2.2                                                                                                                                                               1\n",
              "mw2231.codfw.wmnet                                                                                                                                                               1\n",
              "Proxy Pandeiro UOL                                                                                                                                                               1\n",
              "Apache/2.2.3 (Red Hat)                                                                                                                                                           1\n",
              "Apache/1.3.39 (Unix) PHP/5.2.5 mod_auth_passthrough/1.8 mod_bwlimited/1.4 mod_log_bytes/1.2 mod_gzip/1.3.26.1a FrontPage/5.0.2.2635 DAV/1.0.3 mod_ssl/2.8.30 OpenSSL/0.9.7a      1\n",
              "Apache/2.4.6 (CentOS) OpenSSL/1.0.1e-fips PHP/5.4.16 mod_apreq2-20090110/2.8.0 mod_perl/2.0.10 Perl/v5.24.1                                                                      1\n",
              "Apache/2.2.20 (Unix)                                                                                                                                                             1\n",
              "Apache/2.2.14 (Unix) mod_ssl/2.2.14 OpenSSL/0.9.8e-fips-rhel5                                                                                                                    1\n",
              "nginx/1.4.3                                                                                                                                                                      1\n",
              "nginx/1.10.0 (Ubuntu)                                                                                                                                                            1\n",
              "Virtuoso/07.20.3217 (Linux) i686-generic-linux-glibc212-64  VDB                                                                                                                  1\n",
              "nginx/0.7.65                                                                                                                                                                     1\n",
              "Apache/1.3.31 (Unix) PHP/4.3.9 mod_perl/1.29 rus/PL30.20                                                                                                                         1\n",
              "Yippee-Ki-Yay                                                                                                                                                                    1\n",
              "Apache/2.2.25 (Unix) mod_ssl/2.2.25 OpenSSL/0.9.8e-fips-rhel5 mod_bwlimited/1.4                                                                                                  1\n",
              "DPS/1.1.8                                                                                                                                                                        1\n",
              "Apache/2.2.23 (Amazon)                                                                                                                                                           1\n",
              "mw2260.codfw.wmnet                                                                                                                                                               1\n",
              "mw2114.codfw.wmnet                                                                                                                                                               1\n",
              "mw2103.codfw.wmnet                                                                                                                                                               1\n",
              "Microsoft-IIS/8.0                                                                                                                                                                1\n",
              "Apache/2.4.25 (Debian)                                                                                                                                                           1\n",
              "Apache/2.4.6 (CentOS) OpenSSL/1.0.1e-fips                                                                                                                                        1\n",
              "Sun-ONE-Web-Server/6.1                                                                                                                                                           1\n",
              "mw2240.codfw.wmnet                                                                                                                                                               1\n",
              "nginx/1.10.2                                                                                                                                                                     1\n",
              "PWS/8.2.0.7                                                                                                                                                                      1\n",
              "Apache/2.4.6 (CentOS) PHP/5.6.8                                                                                                                                                  1\n",
              "nxfps                                                                                                                                                                            1\n",
              "Apache/2.2.16 (Unix) mod_ssl/2.2.16 OpenSSL/0.9.8e-fips-rhel5 mod_auth_passthrough/2.1 mod_bwlimited/1.4                                                                         1\n",
              "Play                                                                                                                                                                             1\n",
              "mw2185.codfw.wmnet                                                                                                                                                               1\n",
              "Apache/2.4.10 (Unix) OpenSSL/1.0.1k                                                                                                                                              1\n",
              "Apache/Not telling (Unix) AuthTDS/1.1                                                                                                                                            1\n",
              "Apache/2.2.11 (Unix) PHP/5.2.6                                                                                                                                                   1\n",
              "Scratch Web Server                                                                                                                                                               1\n",
              "marrakesh 1.12.2                                                                                                                                                                 1\n",
              "Apache/2.4.18 (Unix) OpenSSL/1.0.2e Communique/4.1.10                                                                                                                            1\n",
              "lighttpd                                                                                                                                                                         1\n",
              "Apache/1.3.33 (Unix) mod_ssl/2.8.24 OpenSSL/0.9.7e-p1 PHP/4.4.8                                                                                                                  1\n",
              "fbs                                                                                                                                                                              1\n",
              "ECD (fll/0790)                                                                                                                                                                   1\n",
              "Apache/1.3.27 (Unix)  (Red-Hat/Linux) mod_perl/1.26 PHP/4.3.3 FrontPage/5.0.2 mod_ssl/2.8.12 OpenSSL/0.9.6b                                                                      1\n",
              "Apache/2.4.6 (CentOS) OpenSSL/1.0.1e-fips mod_fcgid/2.3.9 PHP/5.4.16 mod_jk/1.2.40                                                                                               1\n",
              "Apache/2.4.25 (FreeBSD) OpenSSL/1.0.1s-freebsd PHP/5.6.30                                                                                                                        1\n",
              "mw2097.codfw.wmnet                                                                                                                                                               1\n",
              "mw2233.codfw.wmnet                                                                                                                                                               1\n",
              "mw2199.codfw.wmnet                                                                                                                                                               1\n",
              "mw2241.codfw.wmnet                                                                                                                                                               1\n",
              "KHL                                                                                                                                                                              1\n",
              "CherryPy/3.6.0                                                                                                                                                                   1\n",
              "Apache/2.2.29 (Unix) mod_ssl/2.2.29 OpenSSL/1.0.1e-fips DAV/2 mod_bwlimited/1.4                                                                                                  1\n",
              "gunicorn/19.7.1                                                                                                                                                                  1\n",
              "Apache/2.2.31 (Unix) mod_ssl/2.2.31 OpenSSL/0.9.8e-fips-rhel5 mod_bwlimited/1.4                                                                                                  1\n",
              "Apache/1.3.37 (Unix) mod_perl/1.29 mod_ssl/2.8.28 OpenSSL/0.9.7e-p1                                                                                                              1\n",
              "Apache/2.2.16 (Debian)                                                                                                                                                           1\n",
              "Name: SERVER, dtype: int64"
            ]
          },
          "metadata": {},
          "execution_count": 226
        }
      ],
      "source": [
        "websites['SERVER'].value_counts()"
      ]
    },
    {
      "cell_type": "markdown",
      "metadata": {
        "id": "cgIbwIWcmrCh"
      },
      "source": [
        "![Think Hard](../images/think-hard.jpg)"
      ]
    },
    {
      "cell_type": "code",
      "execution_count": 227,
      "metadata": {
        "id": "6Ar0_mE7mrCh",
        "colab": {
          "base_uri": "https://localhost:8080/",
          "height": 36
        },
        "outputId": "49911cef-1e18-4d95-d89d-133f693240dc"
      },
      "outputs": [
        {
          "output_type": "execute_result",
          "data": {
            "text/plain": [
              "'I would keep just the principal word: Apache, nginx, Microsoft'"
            ],
            "application/vnd.google.colaboratory.intrinsic+json": {
              "type": "string"
            }
          },
          "metadata": {},
          "execution_count": 227
        }
      ],
      "source": [
        "'''I would keep just the principal word: Apache, nginx, Microsoft'''"
      ]
    },
    {
      "cell_type": "markdown",
      "metadata": {
        "id": "N3gUJyJXmrCh"
      },
      "source": [
        "Although there are so many unique values in the `SERVER` column, there are actually only 3 main server types: `Microsoft`, `Apache`, and `nginx`. Just check if each `SERVER` value contains any of those server types and re-label them. For `SERVER` values that don't contain any of those substrings, label with `Other`.\n",
        "\n",
        "At the end, your `SERVER` column should only contain 4 unique values: `Microsoft`, `Apache`, `nginx`, and `Other`."
      ]
    },
    {
      "cell_type": "code",
      "execution_count": 228,
      "metadata": {
        "id": "OVMC3gUWmrCi"
      },
      "outputs": [],
      "source": [
        "def transform_server(s):\n",
        "  for row in s:\n",
        "    if 'Apache' in s:\n",
        "      return 'Apache'\n",
        "    elif 'nginx' in s:\n",
        "      return 'nginx'\n",
        "    elif 'Microsoft' in s:\n",
        "      return 'Microsoft'\n",
        "    else:\n",
        "      return 'OTHER'"
      ]
    },
    {
      "cell_type": "code",
      "source": [
        "websites['SERVER'] = websites['SERVER'].apply(transform_server)"
      ],
      "metadata": {
        "id": "LhCzqx2xKVzN"
      },
      "execution_count": 229,
      "outputs": []
    },
    {
      "cell_type": "code",
      "execution_count": 230,
      "metadata": {
        "scrolled": false,
        "id": "sR5yDtjImrCi",
        "colab": {
          "base_uri": "https://localhost:8080/"
        },
        "outputId": "b4f1e7c1-d66c-49ae-b725-aec81ec580cc"
      },
      "outputs": [
        {
          "output_type": "execute_result",
          "data": {
            "text/plain": [
              "Apache       642\n",
              "OTHER        504\n",
              "nginx        435\n",
              "Microsoft    198\n",
              "Name: SERVER, dtype: int64"
            ]
          },
          "metadata": {},
          "execution_count": 230
        }
      ],
      "source": [
        "websites['SERVER'].value_counts()"
      ]
    },
    {
      "cell_type": "markdown",
      "metadata": {
        "id": "D5R8SX0VmrCi"
      },
      "source": [
        "OK, all our categorical data are fixed now. **Let's convert them to ordinal data using Pandas' `get_dummies` function ([documentation](https://pandas.pydata.org/pandas-docs/stable/generated/pandas.get_dummies.html)). Also, assign the data with dummy values to a new variable `website_dummy`.**"
      ]
    },
    {
      "cell_type": "code",
      "execution_count": 232,
      "metadata": {
        "id": "lJvA-dHEmrCi"
      },
      "outputs": [],
      "source": [
        "website_dummy = pd.get_dummies(websites, columns=['CHARSET','SERVER','WHOIS_COUNTRY'])"
      ]
    },
    {
      "cell_type": "code",
      "source": [
        "pd.reset_option('^display.', silent=True)"
      ],
      "metadata": {
        "id": "UlmzD_ypM6o-"
      },
      "execution_count": 234,
      "outputs": []
    },
    {
      "cell_type": "markdown",
      "metadata": {
        "id": "ymtOqz6kmrCi"
      },
      "source": [
        "Now, inspect `website_dummy` to make sure the data and types are intended - there shouldn't be any categorical columns at this point."
      ]
    },
    {
      "cell_type": "code",
      "execution_count": 235,
      "metadata": {
        "id": "kCsmZEelmrCi",
        "colab": {
          "base_uri": "https://localhost:8080/",
          "height": 505
        },
        "outputId": "058e280e-d212-49bc-a10f-8a0ec1f34a5e"
      },
      "outputs": [
        {
          "output_type": "execute_result",
          "data": {
            "text/plain": [
              "      NUMBER_SPECIAL_CHARACTERS  DIST_REMOTE_TCP_PORT  REMOTE_IPS  APP_BYTES  \\\n",
              "0                             7                     0           2        700   \n",
              "1                             6                     7           4       1230   \n",
              "2                             6                     0           0          0   \n",
              "3                             6                    22           3       3812   \n",
              "4                             6                     2           5       4278   \n",
              "...                         ...                   ...         ...        ...   \n",
              "1776                         16                     0           0          0   \n",
              "1777                         17                     0           0          0   \n",
              "1778                         34                     2           6       6631   \n",
              "1779                         34                     0           0          0   \n",
              "1780                         40                     6          11       2314   \n",
              "\n",
              "      SOURCE_APP_BYTES  APP_PACKETS  DNS_QUERY_TIMES  Type  \\\n",
              "0                 1153            9              2.0     1   \n",
              "1                 1265           17              0.0     0   \n",
              "2                    0            0              0.0     0   \n",
              "3                18784           39              8.0     0   \n",
              "4               129889           61              4.0     0   \n",
              "...                ...          ...              ...   ...   \n",
              "1776               186            0              0.0     1   \n",
              "1777               124            0              0.0     1   \n",
              "1778            132181           87              4.0     0   \n",
              "1779                 0            0              0.0     0   \n",
              "1780              3039           25              6.0     0   \n",
              "\n",
              "      CHARSET_ISO-8859-1  CHARSET_None  ...  WHOIS_COUNTRY_CN  \\\n",
              "0                      1             0  ...                 0   \n",
              "1                      0             0  ...                 0   \n",
              "2                      0             0  ...                 0   \n",
              "3                      1             0  ...                 0   \n",
              "4                      0             0  ...                 0   \n",
              "...                  ...           ...  ...               ...   \n",
              "1776                   0             0  ...                 0   \n",
              "1777                   0             0  ...                 0   \n",
              "1778                   0             0  ...                 0   \n",
              "1779                   1             0  ...                 0   \n",
              "1780                   0             0  ...                 0   \n",
              "\n",
              "      WHOIS_COUNTRY_ES  WHOIS_COUNTRY_GB  WHOIS_COUNTRY_IN  WHOIS_COUNTRY_JP  \\\n",
              "0                    0                 0                 0                 0   \n",
              "1                    0                 0                 0                 0   \n",
              "2                    0                 0                 0                 0   \n",
              "3                    0                 0                 0                 0   \n",
              "4                    0                 0                 0                 0   \n",
              "...                ...               ...               ...               ...   \n",
              "1776                 1                 0                 0                 0   \n",
              "1777                 1                 0                 0                 0   \n",
              "1778                 0                 0                 0                 0   \n",
              "1779                 0                 0                 0                 0   \n",
              "1780                 0                 0                 0                 0   \n",
              "\n",
              "      WHOIS_COUNTRY_None  WHOIS_COUNTRY_OTHER  WHOIS_COUNTRY_PA  \\\n",
              "0                      1                    0                 0   \n",
              "1                      1                    0                 0   \n",
              "2                      1                    0                 0   \n",
              "3                      0                    0                 0   \n",
              "4                      0                    0                 0   \n",
              "...                  ...                  ...               ...   \n",
              "1776                   0                    0                 0   \n",
              "1777                   0                    0                 0   \n",
              "1778                   0                    0                 0   \n",
              "1779                   0                    0                 0   \n",
              "1780                   0                    0                 0   \n",
              "\n",
              "      WHOIS_COUNTRY_UK  WHOIS_COUNTRY_US  \n",
              "0                    0                 0  \n",
              "1                    0                 0  \n",
              "2                    0                 0  \n",
              "3                    0                 1  \n",
              "4                    0                 1  \n",
              "...                ...               ...  \n",
              "1776                 0                 0  \n",
              "1777                 0                 0  \n",
              "1778                 0                 1  \n",
              "1779                 0                 1  \n",
              "1780                 0                 1  \n",
              "\n",
              "[1779 rows x 29 columns]"
            ],
            "text/html": [
              "\n",
              "  <div id=\"df-dacc5ea9-bf88-4357-af3a-fdfa61b2ae8b\">\n",
              "    <div class=\"colab-df-container\">\n",
              "      <div>\n",
              "<style scoped>\n",
              "    .dataframe tbody tr th:only-of-type {\n",
              "        vertical-align: middle;\n",
              "    }\n",
              "\n",
              "    .dataframe tbody tr th {\n",
              "        vertical-align: top;\n",
              "    }\n",
              "\n",
              "    .dataframe thead th {\n",
              "        text-align: right;\n",
              "    }\n",
              "</style>\n",
              "<table border=\"1\" class=\"dataframe\">\n",
              "  <thead>\n",
              "    <tr style=\"text-align: right;\">\n",
              "      <th></th>\n",
              "      <th>NUMBER_SPECIAL_CHARACTERS</th>\n",
              "      <th>DIST_REMOTE_TCP_PORT</th>\n",
              "      <th>REMOTE_IPS</th>\n",
              "      <th>APP_BYTES</th>\n",
              "      <th>SOURCE_APP_BYTES</th>\n",
              "      <th>APP_PACKETS</th>\n",
              "      <th>DNS_QUERY_TIMES</th>\n",
              "      <th>Type</th>\n",
              "      <th>CHARSET_ISO-8859-1</th>\n",
              "      <th>CHARSET_None</th>\n",
              "      <th>...</th>\n",
              "      <th>WHOIS_COUNTRY_CN</th>\n",
              "      <th>WHOIS_COUNTRY_ES</th>\n",
              "      <th>WHOIS_COUNTRY_GB</th>\n",
              "      <th>WHOIS_COUNTRY_IN</th>\n",
              "      <th>WHOIS_COUNTRY_JP</th>\n",
              "      <th>WHOIS_COUNTRY_None</th>\n",
              "      <th>WHOIS_COUNTRY_OTHER</th>\n",
              "      <th>WHOIS_COUNTRY_PA</th>\n",
              "      <th>WHOIS_COUNTRY_UK</th>\n",
              "      <th>WHOIS_COUNTRY_US</th>\n",
              "    </tr>\n",
              "  </thead>\n",
              "  <tbody>\n",
              "    <tr>\n",
              "      <th>0</th>\n",
              "      <td>7</td>\n",
              "      <td>0</td>\n",
              "      <td>2</td>\n",
              "      <td>700</td>\n",
              "      <td>1153</td>\n",
              "      <td>9</td>\n",
              "      <td>2.0</td>\n",
              "      <td>1</td>\n",
              "      <td>1</td>\n",
              "      <td>0</td>\n",
              "      <td>...</td>\n",
              "      <td>0</td>\n",
              "      <td>0</td>\n",
              "      <td>0</td>\n",
              "      <td>0</td>\n",
              "      <td>0</td>\n",
              "      <td>1</td>\n",
              "      <td>0</td>\n",
              "      <td>0</td>\n",
              "      <td>0</td>\n",
              "      <td>0</td>\n",
              "    </tr>\n",
              "    <tr>\n",
              "      <th>1</th>\n",
              "      <td>6</td>\n",
              "      <td>7</td>\n",
              "      <td>4</td>\n",
              "      <td>1230</td>\n",
              "      <td>1265</td>\n",
              "      <td>17</td>\n",
              "      <td>0.0</td>\n",
              "      <td>0</td>\n",
              "      <td>0</td>\n",
              "      <td>0</td>\n",
              "      <td>...</td>\n",
              "      <td>0</td>\n",
              "      <td>0</td>\n",
              "      <td>0</td>\n",
              "      <td>0</td>\n",
              "      <td>0</td>\n",
              "      <td>1</td>\n",
              "      <td>0</td>\n",
              "      <td>0</td>\n",
              "      <td>0</td>\n",
              "      <td>0</td>\n",
              "    </tr>\n",
              "    <tr>\n",
              "      <th>2</th>\n",
              "      <td>6</td>\n",
              "      <td>0</td>\n",
              "      <td>0</td>\n",
              "      <td>0</td>\n",
              "      <td>0</td>\n",
              "      <td>0</td>\n",
              "      <td>0.0</td>\n",
              "      <td>0</td>\n",
              "      <td>0</td>\n",
              "      <td>0</td>\n",
              "      <td>...</td>\n",
              "      <td>0</td>\n",
              "      <td>0</td>\n",
              "      <td>0</td>\n",
              "      <td>0</td>\n",
              "      <td>0</td>\n",
              "      <td>1</td>\n",
              "      <td>0</td>\n",
              "      <td>0</td>\n",
              "      <td>0</td>\n",
              "      <td>0</td>\n",
              "    </tr>\n",
              "    <tr>\n",
              "      <th>3</th>\n",
              "      <td>6</td>\n",
              "      <td>22</td>\n",
              "      <td>3</td>\n",
              "      <td>3812</td>\n",
              "      <td>18784</td>\n",
              "      <td>39</td>\n",
              "      <td>8.0</td>\n",
              "      <td>0</td>\n",
              "      <td>1</td>\n",
              "      <td>0</td>\n",
              "      <td>...</td>\n",
              "      <td>0</td>\n",
              "      <td>0</td>\n",
              "      <td>0</td>\n",
              "      <td>0</td>\n",
              "      <td>0</td>\n",
              "      <td>0</td>\n",
              "      <td>0</td>\n",
              "      <td>0</td>\n",
              "      <td>0</td>\n",
              "      <td>1</td>\n",
              "    </tr>\n",
              "    <tr>\n",
              "      <th>4</th>\n",
              "      <td>6</td>\n",
              "      <td>2</td>\n",
              "      <td>5</td>\n",
              "      <td>4278</td>\n",
              "      <td>129889</td>\n",
              "      <td>61</td>\n",
              "      <td>4.0</td>\n",
              "      <td>0</td>\n",
              "      <td>0</td>\n",
              "      <td>0</td>\n",
              "      <td>...</td>\n",
              "      <td>0</td>\n",
              "      <td>0</td>\n",
              "      <td>0</td>\n",
              "      <td>0</td>\n",
              "      <td>0</td>\n",
              "      <td>0</td>\n",
              "      <td>0</td>\n",
              "      <td>0</td>\n",
              "      <td>0</td>\n",
              "      <td>1</td>\n",
              "    </tr>\n",
              "    <tr>\n",
              "      <th>...</th>\n",
              "      <td>...</td>\n",
              "      <td>...</td>\n",
              "      <td>...</td>\n",
              "      <td>...</td>\n",
              "      <td>...</td>\n",
              "      <td>...</td>\n",
              "      <td>...</td>\n",
              "      <td>...</td>\n",
              "      <td>...</td>\n",
              "      <td>...</td>\n",
              "      <td>...</td>\n",
              "      <td>...</td>\n",
              "      <td>...</td>\n",
              "      <td>...</td>\n",
              "      <td>...</td>\n",
              "      <td>...</td>\n",
              "      <td>...</td>\n",
              "      <td>...</td>\n",
              "      <td>...</td>\n",
              "      <td>...</td>\n",
              "      <td>...</td>\n",
              "    </tr>\n",
              "    <tr>\n",
              "      <th>1776</th>\n",
              "      <td>16</td>\n",
              "      <td>0</td>\n",
              "      <td>0</td>\n",
              "      <td>0</td>\n",
              "      <td>186</td>\n",
              "      <td>0</td>\n",
              "      <td>0.0</td>\n",
              "      <td>1</td>\n",
              "      <td>0</td>\n",
              "      <td>0</td>\n",
              "      <td>...</td>\n",
              "      <td>0</td>\n",
              "      <td>1</td>\n",
              "      <td>0</td>\n",
              "      <td>0</td>\n",
              "      <td>0</td>\n",
              "      <td>0</td>\n",
              "      <td>0</td>\n",
              "      <td>0</td>\n",
              "      <td>0</td>\n",
              "      <td>0</td>\n",
              "    </tr>\n",
              "    <tr>\n",
              "      <th>1777</th>\n",
              "      <td>17</td>\n",
              "      <td>0</td>\n",
              "      <td>0</td>\n",
              "      <td>0</td>\n",
              "      <td>124</td>\n",
              "      <td>0</td>\n",
              "      <td>0.0</td>\n",
              "      <td>1</td>\n",
              "      <td>0</td>\n",
              "      <td>0</td>\n",
              "      <td>...</td>\n",
              "      <td>0</td>\n",
              "      <td>1</td>\n",
              "      <td>0</td>\n",
              "      <td>0</td>\n",
              "      <td>0</td>\n",
              "      <td>0</td>\n",
              "      <td>0</td>\n",
              "      <td>0</td>\n",
              "      <td>0</td>\n",
              "      <td>0</td>\n",
              "    </tr>\n",
              "    <tr>\n",
              "      <th>1778</th>\n",
              "      <td>34</td>\n",
              "      <td>2</td>\n",
              "      <td>6</td>\n",
              "      <td>6631</td>\n",
              "      <td>132181</td>\n",
              "      <td>87</td>\n",
              "      <td>4.0</td>\n",
              "      <td>0</td>\n",
              "      <td>0</td>\n",
              "      <td>0</td>\n",
              "      <td>...</td>\n",
              "      <td>0</td>\n",
              "      <td>0</td>\n",
              "      <td>0</td>\n",
              "      <td>0</td>\n",
              "      <td>0</td>\n",
              "      <td>0</td>\n",
              "      <td>0</td>\n",
              "      <td>0</td>\n",
              "      <td>0</td>\n",
              "      <td>1</td>\n",
              "    </tr>\n",
              "    <tr>\n",
              "      <th>1779</th>\n",
              "      <td>34</td>\n",
              "      <td>0</td>\n",
              "      <td>0</td>\n",
              "      <td>0</td>\n",
              "      <td>0</td>\n",
              "      <td>0</td>\n",
              "      <td>0.0</td>\n",
              "      <td>0</td>\n",
              "      <td>1</td>\n",
              "      <td>0</td>\n",
              "      <td>...</td>\n",
              "      <td>0</td>\n",
              "      <td>0</td>\n",
              "      <td>0</td>\n",
              "      <td>0</td>\n",
              "      <td>0</td>\n",
              "      <td>0</td>\n",
              "      <td>0</td>\n",
              "      <td>0</td>\n",
              "      <td>0</td>\n",
              "      <td>1</td>\n",
              "    </tr>\n",
              "    <tr>\n",
              "      <th>1780</th>\n",
              "      <td>40</td>\n",
              "      <td>6</td>\n",
              "      <td>11</td>\n",
              "      <td>2314</td>\n",
              "      <td>3039</td>\n",
              "      <td>25</td>\n",
              "      <td>6.0</td>\n",
              "      <td>0</td>\n",
              "      <td>0</td>\n",
              "      <td>0</td>\n",
              "      <td>...</td>\n",
              "      <td>0</td>\n",
              "      <td>0</td>\n",
              "      <td>0</td>\n",
              "      <td>0</td>\n",
              "      <td>0</td>\n",
              "      <td>0</td>\n",
              "      <td>0</td>\n",
              "      <td>0</td>\n",
              "      <td>0</td>\n",
              "      <td>1</td>\n",
              "    </tr>\n",
              "  </tbody>\n",
              "</table>\n",
              "<p>1779 rows × 29 columns</p>\n",
              "</div>\n",
              "      <button class=\"colab-df-convert\" onclick=\"convertToInteractive('df-dacc5ea9-bf88-4357-af3a-fdfa61b2ae8b')\"\n",
              "              title=\"Convert this dataframe to an interactive table.\"\n",
              "              style=\"display:none;\">\n",
              "        \n",
              "  <svg xmlns=\"http://www.w3.org/2000/svg\" height=\"24px\"viewBox=\"0 0 24 24\"\n",
              "       width=\"24px\">\n",
              "    <path d=\"M0 0h24v24H0V0z\" fill=\"none\"/>\n",
              "    <path d=\"M18.56 5.44l.94 2.06.94-2.06 2.06-.94-2.06-.94-.94-2.06-.94 2.06-2.06.94zm-11 1L8.5 8.5l.94-2.06 2.06-.94-2.06-.94L8.5 2.5l-.94 2.06-2.06.94zm10 10l.94 2.06.94-2.06 2.06-.94-2.06-.94-.94-2.06-.94 2.06-2.06.94z\"/><path d=\"M17.41 7.96l-1.37-1.37c-.4-.4-.92-.59-1.43-.59-.52 0-1.04.2-1.43.59L10.3 9.45l-7.72 7.72c-.78.78-.78 2.05 0 2.83L4 21.41c.39.39.9.59 1.41.59.51 0 1.02-.2 1.41-.59l7.78-7.78 2.81-2.81c.8-.78.8-2.07 0-2.86zM5.41 20L4 18.59l7.72-7.72 1.47 1.35L5.41 20z\"/>\n",
              "  </svg>\n",
              "      </button>\n",
              "      \n",
              "  <style>\n",
              "    .colab-df-container {\n",
              "      display:flex;\n",
              "      flex-wrap:wrap;\n",
              "      gap: 12px;\n",
              "    }\n",
              "\n",
              "    .colab-df-convert {\n",
              "      background-color: #E8F0FE;\n",
              "      border: none;\n",
              "      border-radius: 50%;\n",
              "      cursor: pointer;\n",
              "      display: none;\n",
              "      fill: #1967D2;\n",
              "      height: 32px;\n",
              "      padding: 0 0 0 0;\n",
              "      width: 32px;\n",
              "    }\n",
              "\n",
              "    .colab-df-convert:hover {\n",
              "      background-color: #E2EBFA;\n",
              "      box-shadow: 0px 1px 2px rgba(60, 64, 67, 0.3), 0px 1px 3px 1px rgba(60, 64, 67, 0.15);\n",
              "      fill: #174EA6;\n",
              "    }\n",
              "\n",
              "    [theme=dark] .colab-df-convert {\n",
              "      background-color: #3B4455;\n",
              "      fill: #D2E3FC;\n",
              "    }\n",
              "\n",
              "    [theme=dark] .colab-df-convert:hover {\n",
              "      background-color: #434B5C;\n",
              "      box-shadow: 0px 1px 3px 1px rgba(0, 0, 0, 0.15);\n",
              "      filter: drop-shadow(0px 1px 2px rgba(0, 0, 0, 0.3));\n",
              "      fill: #FFFFFF;\n",
              "    }\n",
              "  </style>\n",
              "\n",
              "      <script>\n",
              "        const buttonEl =\n",
              "          document.querySelector('#df-dacc5ea9-bf88-4357-af3a-fdfa61b2ae8b button.colab-df-convert');\n",
              "        buttonEl.style.display =\n",
              "          google.colab.kernel.accessAllowed ? 'block' : 'none';\n",
              "\n",
              "        async function convertToInteractive(key) {\n",
              "          const element = document.querySelector('#df-dacc5ea9-bf88-4357-af3a-fdfa61b2ae8b');\n",
              "          const dataTable =\n",
              "            await google.colab.kernel.invokeFunction('convertToInteractive',\n",
              "                                                     [key], {});\n",
              "          if (!dataTable) return;\n",
              "\n",
              "          const docLinkHtml = 'Like what you see? Visit the ' +\n",
              "            '<a target=\"_blank\" href=https://colab.research.google.com/notebooks/data_table.ipynb>data table notebook</a>'\n",
              "            + ' to learn more about interactive tables.';\n",
              "          element.innerHTML = '';\n",
              "          dataTable['output_type'] = 'display_data';\n",
              "          await google.colab.output.renderOutput(dataTable, element);\n",
              "          const docLink = document.createElement('div');\n",
              "          docLink.innerHTML = docLinkHtml;\n",
              "          element.appendChild(docLink);\n",
              "        }\n",
              "      </script>\n",
              "    </div>\n",
              "  </div>\n",
              "  "
            ]
          },
          "metadata": {},
          "execution_count": 235
        }
      ],
      "source": [
        "website_dummy"
      ]
    },
    {
      "cell_type": "markdown",
      "metadata": {
        "id": "BRleShammrCj"
      },
      "source": [
        "# Challenge 6 - Modeling, Prediction, and Evaluation\n",
        "\n",
        "We'll start off this section by splitting the data to train and test. **Name your 4 variables `X_train`, `X_test`, `y_train`, and `y_test`. Select 80% of the data for training and 20% for testing.**"
      ]
    },
    {
      "cell_type": "code",
      "execution_count": 236,
      "metadata": {
        "id": "QERRbrfAmrCj"
      },
      "outputs": [],
      "source": [
        "from sklearn.model_selection import train_test_split\n",
        "\n",
        "X_train, X_test,y_train, y_test = train_test_split(website_dummy.drop(columns = ['Type']),website_dummy['Type'], random_state = 0, test_size=0.20)"
      ]
    },
    {
      "cell_type": "markdown",
      "metadata": {
        "id": "K6oxL52fmrCj"
      },
      "source": [
        "#### In this lab, we will try two different models and compare our results.\n",
        "\n",
        "The first model we will use in this lab is logistic regression. We have previously learned about logistic regression as a classification algorithm. In the cell below, load `LogisticRegression` from scikit-learn and initialize the model."
      ]
    },
    {
      "cell_type": "code",
      "execution_count": 242,
      "metadata": {
        "id": "pgrknUI_mrCj"
      },
      "outputs": [],
      "source": [
        "from sklearn.linear_model import LogisticRegression"
      ]
    },
    {
      "cell_type": "markdown",
      "metadata": {
        "id": "WvK7hmRymrCj"
      },
      "source": [
        "Next, fit the model to our training data. We have already separated our data into 4 parts. Use those in your model."
      ]
    },
    {
      "cell_type": "code",
      "execution_count": 243,
      "metadata": {
        "id": "aWjWwV0HmrCj",
        "colab": {
          "base_uri": "https://localhost:8080/"
        },
        "outputId": "ac5727d9-b62c-471a-bae3-273e54e5fd86"
      },
      "outputs": [
        {
          "output_type": "stream",
          "name": "stderr",
          "text": [
            "/usr/local/lib/python3.8/dist-packages/sklearn/linear_model/_logistic.py:814: ConvergenceWarning: lbfgs failed to converge (status=1):\n",
            "STOP: TOTAL NO. of ITERATIONS REACHED LIMIT.\n",
            "\n",
            "Increase the number of iterations (max_iter) or scale the data as shown in:\n",
            "    https://scikit-learn.org/stable/modules/preprocessing.html\n",
            "Please also refer to the documentation for alternative solver options:\n",
            "    https://scikit-learn.org/stable/modules/linear_model.html#logistic-regression\n",
            "  n_iter_i = _check_optimize_result(\n"
          ]
        }
      ],
      "source": [
        "\n",
        "# initialize the model\n",
        "model = LogisticRegression()\n",
        "# training your model on the training datasets -> where the algorithm will learn\n",
        "model = model.fit(X_train, y_train)\n"
      ]
    },
    {
      "cell_type": "markdown",
      "metadata": {
        "id": "Z_YPiFUsmrCk"
      },
      "source": [
        "finally, import `confusion_matrix` and `accuracy_score` from `sklearn.metrics` and fit our testing data. Assign the fitted data to `y_pred` and print the confusion matrix as well as the accuracy score"
      ]
    },
    {
      "cell_type": "code",
      "source": [
        "#Basic Accuracy data\n",
        "print(\"test data accuracy was \",model.score(X_test,y_test))\n",
        "print(\"train data accuracy was \", model.score(X_train, y_train))"
      ],
      "metadata": {
        "colab": {
          "base_uri": "https://localhost:8080/"
        },
        "id": "YuXXC4HQPYjQ",
        "outputId": "b442bd1f-80db-4d37-960a-357b863b7073"
      },
      "execution_count": 246,
      "outputs": [
        {
          "output_type": "stream",
          "name": "stdout",
          "text": [
            "test data accuracy was  0.9044943820224719\n",
            "train data accuracy was  0.8868587491215741\n"
          ]
        }
      ]
    },
    {
      "cell_type": "code",
      "execution_count": 244,
      "metadata": {
        "id": "MizqT9whmrCk",
        "colab": {
          "base_uri": "https://localhost:8080/"
        },
        "outputId": "6b453c68-52c9-40ff-ef88-68c343b6f33d"
      },
      "outputs": [
        {
          "output_type": "execute_result",
          "data": {
            "text/plain": [
              "0.9044943820224719"
            ]
          },
          "metadata": {},
          "execution_count": 244
        }
      ],
      "source": [
        "from sklearn.metrics import accuracy_score\n",
        "\n",
        "y_pred = model.predict(X_test)\n",
        "accuracy_score(y_test,y_pred)\n",
        "\n"
      ]
    },
    {
      "cell_type": "code",
      "source": [
        "from sklearn.metrics import confusion_matrix\n",
        "\n",
        "confusion_matrix(y_test, y_pred)"
      ],
      "metadata": {
        "colab": {
          "base_uri": "https://localhost:8080/"
        },
        "id": "4qGSrbunO9QG",
        "outputId": "61224b51-6f3f-435b-b6c7-47d607c005f7"
      },
      "execution_count": 245,
      "outputs": [
        {
          "output_type": "execute_result",
          "data": {
            "text/plain": [
              "array([[315,   2],\n",
              "       [ 32,   7]])"
            ]
          },
          "metadata": {},
          "execution_count": 245
        }
      ]
    },
    {
      "cell_type": "markdown",
      "metadata": {
        "id": "i4slBn9xmrCk"
      },
      "source": [
        "What are your thoughts on the performance of the model? Write your conclusions below."
      ]
    },
    {
      "cell_type": "code",
      "source": [
        "'''\n",
        "The performance of the Regression Model is 0.90. Although, we can try to improve it, look like a good model'''"
      ],
      "metadata": {
        "id": "fVDMFvdNPfXe"
      },
      "execution_count": null,
      "outputs": []
    },
    {
      "cell_type": "markdown",
      "metadata": {
        "id": "6tSr0vBMmrCk"
      },
      "source": [
        "#### Our second algorithm is is K-Nearest Neighbors. \n",
        "\n",
        "Though is it not required, we will fit a model using the training data and then test the performance of the model using the testing data. Start by loading `KNeighborsClassifier` from scikit-learn and then initializing and fitting the model. We'll start off with a model where k=3."
      ]
    },
    {
      "cell_type": "code",
      "execution_count": 247,
      "metadata": {
        "id": "a-WCdtAkmrCk"
      },
      "outputs": [],
      "source": [
        "from sklearn.neighbors import KNeighborsClassifier\n",
        "\n",
        "# initialize the model -> set hyperparameters\n",
        "model = KNeighborsClassifier(n_neighbors = 3)\n"
      ]
    },
    {
      "cell_type": "markdown",
      "metadata": {
        "id": "rsZc0rR_mrCl"
      },
      "source": [
        "To test your model, compute the predicted values for the testing sample and print the confusion matrix as well as the accuracy score."
      ]
    },
    {
      "cell_type": "code",
      "execution_count": 248,
      "metadata": {
        "id": "A77jw4iBmrCl"
      },
      "outputs": [],
      "source": [
        "model = model.fit(X_train, y_train)"
      ]
    },
    {
      "cell_type": "code",
      "source": [
        "from sklearn.metrics import accuracy_score\n",
        "\n",
        "accuracy_score(model.predict(X_test),np.array(y_test))"
      ],
      "metadata": {
        "colab": {
          "base_uri": "https://localhost:8080/"
        },
        "id": "iAF70HWRP4k4",
        "outputId": "d673ac0c-e9f3-4c6d-e4bb-a2102bd0380c"
      },
      "execution_count": 249,
      "outputs": [
        {
          "output_type": "execute_result",
          "data": {
            "text/plain": [
              "0.9297752808988764"
            ]
          },
          "metadata": {},
          "execution_count": 249
        }
      ]
    },
    {
      "cell_type": "code",
      "source": [
        "#Basic Accuracy data\n",
        "print(\"test data accuracy was \",model.score(X_test,y_test))\n",
        "print(\"train data accuracy was \", model.score(X_train, y_train))"
      ],
      "metadata": {
        "colab": {
          "base_uri": "https://localhost:8080/"
        },
        "id": "E2VU8ApgQAI-",
        "outputId": "bafc5f00-5991-43a9-d964-5376391043a3"
      },
      "execution_count": 250,
      "outputs": [
        {
          "output_type": "stream",
          "name": "stdout",
          "text": [
            "test data accuracy was  0.9297752808988764\n",
            "train data accuracy was  0.9571328179901616\n"
          ]
        }
      ]
    },
    {
      "cell_type": "code",
      "source": [
        "y_pred = model.predict(X_test)\n",
        "confusion_matrix(y_test, y_pred)"
      ],
      "metadata": {
        "colab": {
          "base_uri": "https://localhost:8080/"
        },
        "id": "qC8PQCkoQGiH",
        "outputId": "a6790c19-f997-4d46-e062-07c5cb62cfad"
      },
      "execution_count": 252,
      "outputs": [
        {
          "output_type": "execute_result",
          "data": {
            "text/plain": [
              "array([[304,  13],\n",
              "       [ 12,  27]])"
            ]
          },
          "metadata": {},
          "execution_count": 252
        }
      ]
    },
    {
      "cell_type": "markdown",
      "metadata": {
        "id": "RMnWDqzvmrCl"
      },
      "source": [
        "#### We'll create another K-Nearest Neighbors model with k=5. \n",
        "\n",
        "Initialize and fit the model below and print the confusion matrix and the accuracy score."
      ]
    },
    {
      "cell_type": "code",
      "execution_count": 253,
      "metadata": {
        "id": "bQ2sANSVmrCl",
        "colab": {
          "base_uri": "https://localhost:8080/"
        },
        "outputId": "a744c8ac-8a8a-4006-f7d3-0fa75fc08974"
      },
      "outputs": [
        {
          "output_type": "execute_result",
          "data": {
            "text/plain": [
              "0.9382022471910112"
            ]
          },
          "metadata": {},
          "execution_count": 253
        }
      ],
      "source": [
        "model = KNeighborsClassifier(n_neighbors = 5)\n",
        "model = model.fit(X_train, y_train)\n",
        "accuracy_score(model.predict(X_test),np.array(y_test))"
      ]
    },
    {
      "cell_type": "code",
      "source": [
        "print(\"test data accuracy was \",model.score(X_test,y_test))\n",
        "print(\"train data accuracy was \", model.score(X_train, y_train))"
      ],
      "metadata": {
        "colab": {
          "base_uri": "https://localhost:8080/"
        },
        "id": "1iLI0p2LQYgO",
        "outputId": "b72d2e7c-9fb2-4622-9094-2008e0ded975"
      },
      "execution_count": 254,
      "outputs": [
        {
          "output_type": "stream",
          "name": "stdout",
          "text": [
            "test data accuracy was  0.9382022471910112\n",
            "train data accuracy was  0.9479971890372453\n"
          ]
        }
      ]
    },
    {
      "cell_type": "code",
      "source": [
        "y_pred = model.predict(X_test)\n",
        "confusion_matrix(y_test, y_pred)"
      ],
      "metadata": {
        "colab": {
          "base_uri": "https://localhost:8080/"
        },
        "id": "QOK4qudvQdxP",
        "outputId": "7c13e7e2-a0e4-4e1f-cd46-2bc9c354a216"
      },
      "execution_count": 255,
      "outputs": [
        {
          "output_type": "execute_result",
          "data": {
            "text/plain": [
              "array([[309,   8],\n",
              "       [ 14,  25]])"
            ]
          },
          "metadata": {},
          "execution_count": 255
        }
      ]
    },
    {
      "cell_type": "markdown",
      "metadata": {
        "id": "n5GHThKGmrCm"
      },
      "source": [
        "Did you see an improvement in the confusion matrix when increasing k to 5? Did you see an improvement in the accuracy score? Write your conclusions below."
      ]
    },
    {
      "cell_type": "code",
      "execution_count": 256,
      "metadata": {
        "id": "TsZ7hPubmrCm",
        "colab": {
          "base_uri": "https://localhost:8080/",
          "height": 36
        },
        "outputId": "b1ced7d9-838c-40d7-a33b-7f27d0d8bdb9"
      },
      "outputs": [
        {
          "output_type": "execute_result",
          "data": {
            "text/plain": [
              "'\\nThe KNN model with 5 neighbors looks like it has better performance than previous one with 3'"
            ],
            "application/vnd.google.colaboratory.intrinsic+json": {
              "type": "string"
            }
          },
          "metadata": {},
          "execution_count": 256
        }
      ],
      "source": [
        "'''\n",
        "The KNN model with 5 neighbors looks like it has better performance than previous one with 3'''\n"
      ]
    },
    {
      "cell_type": "markdown",
      "metadata": {
        "id": "eS3fgfCnmrCm"
      },
      "source": [
        "# Bonus Challenge - Feature Scaling\n",
        "\n",
        "Problem-solving in machine learning is iterative. You can improve your model prediction with various techniques (there is a sweetspot for the time you spend and the improvement you receive though). Now you've completed only one iteration of ML analysis. There are more iterations you can conduct to make improvements. In order to be able to do that, you will need deeper knowledge in statistics and master more data analysis techniques. In this bootcamp, we don't have time to achieve that advanced goal. But you will make constant efforts after the bootcamp to eventually get there.\n",
        "\n",
        "However, now we do want you to learn one of the advanced techniques which is called *feature scaling*. The idea of feature scaling is to standardize/normalize the range of independent variables or features of the data. This can make the outliers more apparent so that you can remove them. This step needs to happen during Challenge 6 after you split the training and test data because you don't want to split the data again which makes it impossible to compare your results with and without feature scaling. For general concepts about feature scaling, click [here](https://en.wikipedia.org/wiki/Feature_scaling). To read deeper, click [here](https://medium.com/greyatom/why-how-and-when-to-scale-your-features-4b30ab09db5e).\n",
        "\n",
        "In the next cell, attempt to improve your model prediction accuracy by means of feature scaling. A library you can utilize is `sklearn.preprocessing.RobustScaler` ([documentation](https://scikit-learn.org/stable/modules/generated/sklearn.preprocessing.RobustScaler.html)). You'll use the `RobustScaler` to fit and transform your `X_train`, then transform `X_test`. You will use logistic regression to fit and predict your transformed data and obtain the accuracy score in the same way. Compare the accuracy score with your normalized data with the previous accuracy data. Is there an improvement?"
      ]
    },
    {
      "cell_type": "code",
      "execution_count": null,
      "metadata": {
        "id": "j8dZdO9TmrCn"
      },
      "outputs": [],
      "source": [
        "# Your code here"
      ]
    }
  ],
  "metadata": {
    "kernelspec": {
      "display_name": "ironhack-3.7",
      "language": "python",
      "name": "ironhack-3.7"
    },
    "language_info": {
      "codemirror_mode": {
        "name": "ipython",
        "version": 3
      },
      "file_extension": ".py",
      "mimetype": "text/x-python",
      "name": "python",
      "nbconvert_exporter": "python",
      "pygments_lexer": "ipython3",
      "version": "3.7.3"
    },
    "colab": {
      "provenance": []
    }
  },
  "nbformat": 4,
  "nbformat_minor": 0
}